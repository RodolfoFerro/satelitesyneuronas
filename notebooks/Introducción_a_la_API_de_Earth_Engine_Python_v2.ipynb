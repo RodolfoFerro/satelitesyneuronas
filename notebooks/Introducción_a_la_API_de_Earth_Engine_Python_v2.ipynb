{
  "nbformat": 4,
  "nbformat_minor": 0,
  "metadata": {
    "colab": {
      "provenance": [],
      "include_colab_link": true
    },
    "kernelspec": {
      "name": "python3",
      "display_name": "Python 3"
    }
  },
  "cells": [
    {
      "cell_type": "markdown",
      "metadata": {
        "id": "view-in-github",
        "colab_type": "text"
      },
      "source": [
        "<a href=\"https://colab.research.google.com/github/RodolfoFerro/satelitesyneuronas/blob/main/notebooks/Introducci%C3%B3n_a_la_API_de_Earth_Engine_Python_v2.ipynb\" target=\"_parent\"><img src=\"https://colab.research.google.com/assets/colab-badge.svg\" alt=\"Open In Colab\"/></a>"
      ]
    },
    {
      "cell_type": "code",
      "source": [],
      "metadata": {
        "id": "GpPdZ6sJR_lq"
      },
      "execution_count": null,
      "outputs": []
    },
    {
      "cell_type": "markdown",
      "metadata": {
        "id": "l18M9_r5XmAQ"
      },
      "source": [
        "# Una introducción a la API de Python de Earth Engine\n",
        "\n",
        "Autor: Ana Patricia Ruiz Beltrán\n",
        "Texto introductorio por: guiattard\n",
        "\n",
        "\n",
        "Dentro de la última década, una gran cantidad de datos geoespaciales, como datos satelitales (p. ej., temperatura de la superficie terrestre, vegetación) o la salida de modelos a gran escala, incluso globales (p. ej., velocidad del viento, recarga de aguas subterráneas), han estado disponibles gratuitamente de múltiples agencias nacionales y universidades (p. ej., NASA, USGS, NOAA y ESA).\n",
        "\n",
        "Estos datos geoespaciales son utilizados diariamente por científicos e ingenieros de todos los campos para predecir el clima, prevenir desastres, asegurar el suministro de agua o estudiar las consecuencias del cambio climático. Al utilizar estos datos geoespaciales, surgen algunas preguntas:\n",
        "\n",
        "¿Qué datos están disponibles y dónde se pueden encontrar?\n",
        "\n",
        "¿Cómo podemos acceder a estos datos?\n",
        "\n",
        "¿Cómo podemos manipular estos petabytes de datos?\n",
        "\n",
        "En este tutorial, se presenta una introducción a la API de Python de Google Earth Engine: https://developers.google.com/earth-engine/guides/python_install. Después de algunas configuraciones y una exploración del Catálogo de datos de Earth Engine, veremos cómo manejar conjuntos de datos geoespaciales con pandas: https://pandas.pydata.org/ y crear algunos gráficos con matplotlib.\n",
        "\n",
        "Primero, veremos cómo obtener las series temporales de una variable para una región de interés. Se aplicará este procedimiento para conocer el comportamiento de la vegetación verde sobre el tiempo. En segundo lugar, detallaremos los procedimientos para la creación de mapas estáticos y la exportación de resultados como GeoTIFF.\n",
        "\n",
        "Finalmente, se introducirá la biblioteca folium para crear mapas interactivos. En esta última parte, veremos cómo incluir algunos conjuntos de datos de GEE como capas de mosaico de un mapa de folium."
      ]
    },
    {
      "cell_type": "markdown",
      "metadata": {
        "id": "U7i55vr_aKCB"
      },
      "source": [
        "## Corre esto primero\n",
        "\n",
        "Primero, ejecuta la siguiente celda para inicializar la API. La salida contendrá instrucciones sobre cómo otorgar acceso a Earth Engine a este notebook usando tu cuenta."
      ]
    },
    {
      "cell_type": "code",
      "metadata": {
        "id": "XeFsiSp2aDL6"
      },
      "source": [
        "import ee\n",
        "import geemap\n",
        "\n",
        "# Trigger the authentication flow.\n",
        "ee.Authenticate()\n",
        "\n",
        "# Initialize the library.\n",
        "ee.Initialize(project='rodo-ferro')"
      ],
      "execution_count": null,
      "outputs": []
    },
    {
      "cell_type": "markdown",
      "metadata": {
        "id": "u6V2UYFlPAPj"
      },
      "source": [
        "## Empezemos con las \"Collections\"\n",
        "\n",
        "En el Catálogo de Datos de Earth Engine, los conjuntos de datos pueden ser de diferentes tipos:\n",
        "\n",
        "* Features (Características) que son objetos geométricos con una lista de propiedades. Por ejemplo, una cuenca hidrográfica con algunas propiedades como nombre y área, es un ee.Feature.\n",
        "* Images (Imágenes) que son como las características, pero pueden incluir varias bandas. Por ejemplo, la elevación del terreno proporcionada por el USGS aquí: https://developers.google.com/earth-engine/datasets/catalog/USGS_SRTMGL1_003 es una ee.Image.\n",
        "* Collections (Colecciones) que son grupos de características o imágenes. Por ejemplo, las Capas de Unidades Administrativas Globales (Global Administrative Unit Layers) que proporcionan los límites administrativos son una ee.* FeatureCollection: https://developers.google.com/earth-engine/datasets/catalog/FAO_GAUL_2015_level0 y el conjunto de datos de Temperatura de la Superficie Terrestre (Land Surface Temperature) de MODIS es una ee.ImageCollection: https://developers.google.com/earth-engine/datasets/catalog/MODIS_006_MOD11A1.\n",
        "\n",
        "\n",
        "Si deseas obtener más información sobre los diferentes modelos de datos, puede visitar la Guía del Usuario de Earth Engine: https://developers.google.com/earth-engine.\n",
        "\n",
        "Explora los datos que hay de imágenes satelitales en Google Earth Engine aquí: https://developers.google.com/earth-engine/datasets\n",
        "\n",
        "Ahora, antes de importar la colección de imágenes satelitales, definamos nuestra área de estudio. Ahorita está la de Aguascalientes pero sé libre de modificar las coordenadas."
      ]
    },
    {
      "cell_type": "code",
      "source": [
        "# Define la geometría usando tus coordenadas de interés\n",
        "geometry = ee.Geometry.Polygon([\n",
        "    [\n",
        "        [-102.52664708407724, 21.730974562304468],\n",
        "        [-102.12152623446786, 21.730974562304468],\n",
        "        [-102.12152623446786, 22.105537299784615],\n",
        "        [-102.52664708407724, 22.105537299784615],\n",
        "        [-102.52664708407724, 21.730974562304468]\n",
        "    ]\n",
        "])"
      ],
      "metadata": {
        "id": "ki4VYr89MAEw"
      },
      "execution_count": null,
      "outputs": []
    },
    {
      "cell_type": "code",
      "source": [
        "# Crear un mapa centrado en la zona de interés\n",
        "\n",
        "Map = geemap.Map(center=[21.92, -102.32], zoom=10)\n",
        "Map.addLayer(geometry, {}, 'Zona de interés')\n",
        "Map\n",
        "\n",
        "# Interactúa con todas las opciones que tienes en la ventana.\n",
        "#Pruébalo tú: Haz otro código similar, pero juega con las variables de entrada"
      ],
      "metadata": {
        "collapsed": true,
        "id": "RLrxo4PkMhNh"
      },
      "execution_count": null,
      "outputs": []
    },
    {
      "cell_type": "code",
      "metadata": {
        "id": "i6WDkfesPYeV"
      },
      "source": [
        "# Ahora sí, importemos primero la colección de imágenes armonizadas de Sentinel-2\n",
        "\n",
        "# Selección de imágenes Sentinel-2\n",
        "S2 = (\n",
        "    ee.ImageCollection('COPERNICUS/S2_SR_HARMONIZED')\n",
        "    .filterDate('2017-04-01', '2025-07-01')\n",
        "    .filterBounds(geometry)\n",
        ")\n"
      ],
      "execution_count": null,
      "outputs": []
    },
    {
      "cell_type": "markdown",
      "source": [
        "### Cálculo del Índice NDVI\n",
        "\n",
        "Con esta colección de imágenes, podemos calcular fácilmente el Valor del Índice de Vegetación de Diferencia Normalizada (NDVI) para cada una de ellas. El NDVI es un indicador clave de la salud y densidad de la vegetación, y se deriva de una ecuación que utiliza la reflectancia de la Banda Infrarroja Cercana (NIR) y la Banda Roja (RED) de una imagen satelital.\n",
        "\n",
        "La fórmula del NDVI se expresa de la siguiente manera:\n",
        "\n",
        "$$\n",
        "NDVI = \\frac{NIR - RED}{NIR + RED}\n",
        "$$\n",
        "\n",
        "Donde:\n",
        "\n",
        "- **NIR** representa la reflectancia en la Banda Infrarroja Cercana (en tu caso, la Banda 8).\n",
        "- **RED** representa la reflectancia en la Banda Roja (en tu caso, la Banda 4).\n",
        "\n",
        "Este cálculo nos permitirá generar un nuevo conjunto de datos que refleje la distribución y vitalidad de la vegetación en las áreas de estudio."
      ],
      "metadata": {
        "id": "24Zv9iY_jqom"
      }
    },
    {
      "cell_type": "code",
      "source": [
        "#Cálculo del NDVI\n",
        "\n",
        "def addNDVI(image):\n",
        "    ndvi = image.normalizedDifference(['B8', 'B4']).rename('NDVI')\n",
        "    return image.addBands(ndvi)\n",
        "\n",
        "S2 = S2.map(addNDVI)"
      ],
      "metadata": {
        "id": "FG7laLZoRjR5"
      },
      "execution_count": null,
      "outputs": []
    },
    {
      "cell_type": "code",
      "source": [
        "#Aquí pondremos la serie de tiempo, de todo el polígono de interés, para ver cómo la vegetación verde se ha comportado sobre el tiempo\n",
        "\n",
        "#Aquí importamos la paquetería que necesitamos para hacer el plot\n",
        "import pandas as pd\n",
        "import matplotlib.pyplot as plt\n",
        "\n",
        "\n",
        "#Hacemos una función para obtener sólamente el NDVI\n",
        "def get_ndvi_time_series(collection, geometry):\n",
        "    def extract(img):\n",
        "        stats = img.select('NDVI').reduceRegion(\n",
        "            reducer=ee.Reducer.mean(),\n",
        "            geometry=geometry,\n",
        "            scale=10,\n",
        "            maxPixels=1e9\n",
        "        )\n",
        "        date = ee.Date(img.get('system:time_start')).format('YYYY-MM-dd')\n",
        "        return ee.Feature(None, {'date': date, 'NDVI': stats.get('NDVI')})\n",
        "    series = collection.map(extract).filter(ee.Filter.notNull(['NDVI']))\n",
        "    data = series.getInfo()['features']\n",
        "    dates = [f['properties']['date'] for f in data]\n",
        "    ndvis = [f['properties']['NDVI'] for f in data]\n",
        "    return pd.DataFrame({'date': dates, 'NDVI': ndvis})\n",
        "\n",
        "#Extraemos los datos y los acomodamos por fecha\n",
        "\n",
        "ndvi_df = get_ndvi_time_series(S2, geometry)\n",
        "ndvi_df['date'] = pd.to_datetime(ndvi_df['date'])\n",
        "ndvi_df = ndvi_df.sort_values('date')\n",
        "\n",
        "#Estos son los detalles para adornar la  gráfica\n",
        "plt.figure(figsize=(10,5))\n",
        "plt.plot(ndvi_df['date'], ndvi_df['NDVI'])\n",
        "plt.title('Serie temporal de NDVI')\n",
        "plt.xlabel('Fecha')\n",
        "plt.ylabel('NDVI')\n",
        "plt.show()"
      ],
      "metadata": {
        "id": "4OazpcljR8QA"
      },
      "execution_count": null,
      "outputs": []
    },
    {
      "cell_type": "code",
      "source": [
        "import plotly.express as px\n",
        "\n",
        "fig = px.line(ndvi_df, x='date', y='NDVI', title='Serie temporal de NDVI')\n",
        "fig.show()"
      ],
      "metadata": {
        "id": "HCsW9dcf9VHi"
      },
      "execution_count": null,
      "outputs": []
    },
    {
      "cell_type": "markdown",
      "source": [
        "Si vemos esta gráfica podemos observar que hay algo que no cuadra, ¿Puedes identificar qué es? Observa los valores de NDVI... 0.0 corresponde a no vegetación y 1 es el valor de saturación. ¿Puede de un día a otro desaparecer la vegetación? ¿Qué podría estar causando esto?"
      ],
      "metadata": {
        "id": "-eT7WEBQTBQQ"
      }
    },
    {
      "cell_type": "markdown",
      "metadata": {
        "id": "oCLX5Nu_QWKE"
      },
      "source": [
        "## Enmascarado de nubes y filtrado avanzado\n",
        "\n",
        "Para poder encontrar imágenes que puedan ser útiles para nuestra visualización de datos y/o análisis es necesario hacer un filtro de aquellas imágenes que tienen nubosidad. Para eso es es que el siguiente código hace un filtro de aquellas imágenes que tienen una probabilidad alta de nubosidad.\n"
      ]
    },
    {
      "cell_type": "code",
      "metadata": {
        "id": "tl2aDJe7Qbr6"
      },
      "source": [
        "def maskClouds(image):\n",
        "    cloud_prob = image.select('MSK_CLDPRB')\n",
        "    mask = cloud_prob.lt(20)\n",
        "    return image.updateMask(mask).copyProperties(image, ['system:time_start'])\n",
        "\n",
        "def addNDVI(image):\n",
        "    ndvi = image.normalizedDifference(['B8', 'B4']).rename('NDVI')\n",
        "    return image.addBands(ndvi)\n",
        "\n",
        "\n",
        "def calculateOverlapPercentage(image):\n",
        "    imageGeometry = image.geometry()\n",
        "    intersection = imageGeometry.intersection(geometry, 0.001)\n",
        "    intersectionArea = intersection.area()\n",
        "    imageArea = imageGeometry.area()\n",
        "    overlapPercentage = intersectionArea.divide(imageArea).multiply(100)\n",
        "    return image.set('overlap_percentage', overlapPercentage)\n",
        "\n",
        "S2_filtered = (\n",
        "    ee.ImageCollection('COPERNICUS/S2_SR_HARMONIZED')\n",
        "    .filterBounds(geometry)\n",
        "    .filterDate('2018-12-14', '2025-04-01')\n",
        "    .filter(ee.Filter.lt(\"CLOUDY_PIXEL_PERCENTAGE\", 5))\n",
        "    .map(maskClouds)\n",
        "    .map(addNDVI)\n",
        "    .map(calculateOverlapPercentage)\n",
        "    .filter(ee.Filter.gte('overlap_percentage', 10))\n",
        "    .map(lambda img: img.clip(geometry))\n",
        ")"
      ],
      "execution_count": null,
      "outputs": []
    },
    {
      "cell_type": "code",
      "source": [
        "#Repite la serie de tiempo usando S2_filtered en vez de S2 para graficar solo imágenes con nubes filtradas.\n",
        "\n",
        "\n",
        "def get_ndvi_time_series(collection, geometry):\n",
        "    def extract(img):\n",
        "        stats = img.select('NDVI').reduceRegion(\n",
        "            reducer=ee.Reducer.mean(),\n",
        "            geometry=geometry,\n",
        "            scale=10,\n",
        "            maxPixels=1e9\n",
        "        )\n",
        "        date = ee.Date(img.get('system:time_start')).format('YYYY-MM-dd')\n",
        "        return ee.Feature(None, {'date': date, 'NDVI': stats.get('NDVI')})\n",
        "    series = collection.map(extract).filter(ee.Filter.notNull(['NDVI']))\n",
        "    data = series.getInfo()['features']\n",
        "    dates = [f['properties']['date'] for f in data]\n",
        "    ndvis = [f['properties']['NDVI'] for f in data]\n",
        "    return pd.DataFrame({'date': dates, 'NDVI': ndvis})\n",
        "\n",
        "ndvi_df = get_ndvi_time_series(S2_filtered, geometry)\n",
        "ndvi_df['date'] = pd.to_datetime(ndvi_df['date'])\n",
        "ndvi_df = ndvi_df.sort_values('date')\n",
        "\n",
        "plt.figure(figsize=(10,5))\n",
        "plt.plot(ndvi_df['date'], ndvi_df['NDVI'])\n",
        "plt.title('Serie temporal de NDVI')\n",
        "plt.xlabel('Fecha')\n",
        "plt.ylabel('NDVI')\n",
        "plt.show()"
      ],
      "metadata": {
        "id": "8cKBAXTQou-V"
      },
      "execution_count": null,
      "outputs": []
    },
    {
      "cell_type": "markdown",
      "source": [
        "##Otros índices de Vegetación\n",
        "\n",
        "Investiga otros índices de vegetación que puedan ser estimados con Sentinel-2.\n",
        "Calcúlalo abajo y elabora la gráfica."
      ],
      "metadata": {
        "id": "RAeB_KvJTPo1"
      }
    },
    {
      "cell_type": "code",
      "source": [],
      "metadata": {
        "id": "wXTj8wu_TPYM"
      },
      "execution_count": null,
      "outputs": []
    },
    {
      "cell_type": "markdown",
      "source": [
        "## Visualizando los datos en 2D\n",
        "\n",
        "Ahora, visualizaremos las imágenes de nuestra colección en 2D. Tenemos muchas imágenes, así que seleccionaremos sólo 2, y que sean contrastantes. Una que sea de época de secas y otra de época de lluvias. Podemos usar el índice de vegetación del NDVI como un proxi para encontrar esto. El máximo y el mínimo.\n",
        "\n",
        "Recapitulando, ¿cuántas imágenes tenemos en nuestra colección?"
      ],
      "metadata": {
        "id": "-_JGSG3Mo7Ox"
      }
    },
    {
      "cell_type": "code",
      "source": [
        "print('Número de imágenes:', S2_filtered.size().getInfo())"
      ],
      "metadata": {
        "id": "rLas6j2ho4PG"
      },
      "execution_count": null,
      "outputs": []
    },
    {
      "cell_type": "markdown",
      "source": [
        "Ahora calcula el número de imágenes que tenías, antes de que aplicáramos el filtro de nubes a las imágenes de la colección de Sentinel-2"
      ],
      "metadata": {
        "id": "l1Uw_M_rpByq"
      }
    },
    {
      "cell_type": "code",
      "source": [
        "#Ejercicio: Calcula el número de imágenes antes del filtro de nubes para nuestra colección S2"
      ],
      "metadata": {
        "id": "5yhA_1G8pLi6"
      },
      "execution_count": null,
      "outputs": []
    },
    {
      "cell_type": "markdown",
      "source": [
        "Para poder hacer esto, primero tenemos que calcular el NDVI promedio de toda nuestra área de estudio por imágen. Después, seleccionamos la imagen con los valores mínimos y los valores máximos de NDVI."
      ],
      "metadata": {
        "id": "vIFBx1Z8paXR"
      }
    },
    {
      "cell_type": "code",
      "metadata": {
        "id": "eQdthk0m5vJ9"
      },
      "source": [
        "##Creación de una función para calcular el NDVI por imágen\n",
        "\n",
        "def addNDVImean(img):\n",
        "    mean = img.select('NDVI').reduceRegion(\n",
        "        reducer=ee.Reducer.mean(), #obtener el promedio del NDVI\n",
        "        geometry=geometry, #área de interés definida anteriormente en el código\n",
        "        scale=10, #resolución espacial, en este caso es Sentinel-2, así que es de 10 metris\n",
        "        maxPixels=1e9 #número máximo de pixeles para procesar\n",
        "    ).get('NDVI')\n",
        "    return img.set('NDVI_mean', mean)\n",
        "##Aplicación de la función en mi colección de datos\n",
        "\n",
        "ndviStats = S2_filtered.map(addNDVImean)\n",
        "\n",
        "#Acomodar las imágenes por sus valores de NDVI y seleccionar la primera y la última\n",
        "minNDVIImage = ndviStats.sort('NDVI_mean', True).first()\n",
        "maxNDVIImage = ndviStats.sort('NDVI_mean', False).first()"
      ],
      "execution_count": null,
      "outputs": []
    },
    {
      "cell_type": "markdown",
      "source": [
        "¿A qué fecha corresponden estas imágenes? Utilizaremos un módulo para encontrar las fechas de las imágenes que seleccionamos"
      ],
      "metadata": {
        "id": "Hi_8cd7vCi_h"
      }
    },
    {
      "cell_type": "code",
      "source": [
        "import datetime  # Este es un módulo para convertir fechas, ya que las que obtenemos\n",
        "#están en milisegundos\n",
        "\n",
        "# Obtenemos el tiempo de la imagen, que está en milisegundos desde el 1 de enero de 1970\n",
        "timestamp = minNDVIImage.get('system:time_start').getInfo()\n",
        "\n",
        "# Convertimos la marca de tiempo a una fecha legible utilizando el móddulo\n",
        "date = datetime.datetime.utcfromtimestamp(timestamp / 1000)\n",
        "print(\"Fecha de la imagen con NDVI mínimo:\", date)"
      ],
      "metadata": {
        "id": "bzDaHfFIC3KQ"
      },
      "execution_count": null,
      "outputs": []
    },
    {
      "cell_type": "code",
      "source": [
        "#Ahora haz lo mismo con la fecha del NDVI máximo"
      ],
      "metadata": {
        "id": "PSZwKDflDHt6"
      },
      "execution_count": null,
      "outputs": []
    },
    {
      "cell_type": "markdown",
      "source": [
        "##Visualizando el mapa\n",
        "\n",
        "Aquí visualizaremos las imágenes que queremos en el mapa."
      ],
      "metadata": {
        "id": "yFf0naod9wXJ"
      }
    },
    {
      "cell_type": "code",
      "source": [
        "# Creación de la variable mapa, en donde pondremos primero las coordenadas de nuestro centro de interés,\n",
        "# y después definiremos el acercamiento con zoom\n",
        "Map = geemap.Map(center=[22.25, -102.25], zoom=10)\n",
        "#Agregamos cada una de las imágenes que queremos. Estas son las imágenes que definimos anteriormente. Agregamos los valores mínimos y máximos.\n",
        "#Puedes cambiar este parámetro para tu valor máximo de NDVI, para tener un mayor contraste. Después se define la paleta de colores\n",
        "#y finalmente ponemos el nombre de la variable a visualizar en nuestro mapa\n",
        "Map.addLayer(minNDVIImage.select('NDVI'), {'min': 0, 'max': 0.8, 'palette': ['brown', 'yellow', 'green']}, 'NDVI secas')\n",
        "Map.addLayer(maxNDVIImage.select('NDVI'), {'min': 0, 'max': 0.8, 'palette': ['brown', 'yellow', 'green']}, 'NDVI lluvias')\n",
        "Map.addLayer(minNDVIImage, {'bands': ['B4', 'B3', 'B2'], 'min': 0, 'max': 3000}, 'Sentinel 2 - Color Verdadero - secas')\n",
        "Map.addLayer(maxNDVIImage, {'bands': ['B4', 'B3', 'B2'], 'min': 0, 'max': 3000}, 'Sentinel 2 - Color Verdadero - lluvias')\n",
        "#Aquí llamamos al mapa para que se imprima\n",
        "Map"
      ],
      "metadata": {
        "id": "w3QPRJEYW3ea"
      },
      "execution_count": null,
      "outputs": []
    },
    {
      "cell_type": "markdown",
      "source": [
        "Así como aplicas filtros en instagram, utilizamos las mismas técnicas para poder generar un mejor contraste en las imágenes. Para esto, podemos utilizar, por ejemplo, la desviación estándar.\n",
        "\n",
        "¿Qué es la desviación estándar?\n",
        "\n",
        "Veamos los histogramas de las bandas de interés, para encontrar los valores de los pixeles, y con esto poder entender cómo es que funcionan los contrastes al asignar los máximos y mínimos en la visualización de imágenes."
      ],
      "metadata": {
        "id": "12rkQhO9ErJb"
      }
    },
    {
      "cell_type": "code",
      "source": [
        "#Selección de las bandas de interés\n",
        "\n",
        "bands = ['B2', 'B3', 'B4', 'B8']\n",
        "\n",
        "#Aplicar un \"loop\" o \"for\" para hacer muchas gráficas al mismo tiempo\n",
        "for band in bands:\n",
        "    values = minNDVIImage.select(band).reduceRegion(\n",
        "        reducer=ee.Reducer.toList(),\n",
        "        geometry=geometry,\n",
        "        scale=10,\n",
        "        maxPixels=1e8\n",
        "    ).get(band).getInfo()\n",
        "\n",
        "# Graficamos\n",
        "    plt.figure(figsize=(8, 4)) #Tamaño del plot\n",
        "    plt.hist(values, bins=50, edgecolor='black') #Intervalos de agrupación de los valores\n",
        "    plt.title(f'Histograma de la banda espectral {band}') #Aquí se escribe automáticamente el nombre de la banda\n",
        "    plt.xlabel('Valor del píxel')\n",
        "    plt.ylabel('Frecuencia')\n",
        "    plt.grid(True)\n",
        "    plt.show()"
      ],
      "metadata": {
        "id": "-ZgH0-LnqWVc"
      },
      "execution_count": null,
      "outputs": []
    },
    {
      "cell_type": "markdown",
      "source": [
        "##Haz tu propio mapa\n",
        "\n",
        "Ahora, haz tu propio mapa jugando con distintos valores de bandas, pero ya no en **color verdadero** (*True Colour*), sino con **falso color**, y ajusta los valores mínimos y máximos con la desviación estándar.\n",
        "\n",
        "[Aquí](https://custom-scripts.sentinel-hub.com/custom-scripts/sentinel-2/composites/) algunos ejemplos de falso color para utilizar diferentes combinaciones de bandas y resaltar distintos atributos de la superficie terrestre."
      ],
      "metadata": {
        "id": "xxgtvZdMJdft"
      }
    },
    {
      "cell_type": "code",
      "source": [],
      "metadata": {
        "id": "Nhlsa_D-JdQm"
      },
      "execution_count": null,
      "outputs": []
    },
    {
      "cell_type": "markdown",
      "metadata": {
        "id": "nPE71g0rSanG"
      },
      "source": [
        "## Exportando un archivo GeoTIFF\n",
        "\n",
        "Después de manipular conjuntos de datos en Earth Engine, puede que necesites exportar una ee.Image resultante a un archivo GeoTIFF. Por ejemplo, para usarla como entrada en un modelo numérico fuera de Earth Engine, o para superponerla con archivos georreferenciados personales en tu SIG favorito. Hay múltiples formas de hacerlo (consulta la sección de [Exporting](https://developers.google.com/earth-engine/guides/exporting#exporting-images) en la Guía de Desarrolladores).\n",
        "\n",
        "Aquí exploramos dos opciones:\n",
        "\n",
        "* Guardar la ee.Image deseada en Google Drive.\n",
        "* Descargar directamente la imagen.\n",
        "\n"
      ]
    },
    {
      "cell_type": "markdown",
      "metadata": {
        "id": "M18DAo-sHFUd"
      },
      "source": [
        "## Guarda un archivo GeoTIFF en tu Google Drive\n",
        "\n",
        "Para exportar la ee.Image a Google Drive, debemos definir una tarea y comenzarla. Tenemos que especificar el tamaño de los píxeles (aquí 10 m), la proyección (aquí EPSG:4326), el formato del archivo (aquí GeoTIFF), la región de interés (aquí el área de Aguascalientes definida anteriormente), y el archivo se exportará al directorio principal de Google Drive y se nombrará según el fileNamePrefix que elijamos."
      ]
    },
    {
      "cell_type": "code",
      "source": [
        "#Llamamos a la imágen para conocer sus características\n",
        "\n",
        "minNDVIImage"
      ],
      "metadata": {
        "id": "A6pP6kASNa8E",
        "collapsed": true
      },
      "execution_count": null,
      "outputs": []
    },
    {
      "cell_type": "code",
      "source": [
        "#Primero seleccionamos qué bandas queremos exportar\n",
        "\n",
        "bands_to_select = ['B1', 'B2', 'B3', 'B4', 'B5', 'B6', 'B7', 'B8', 'B9', 'B11', 'B12']"
      ],
      "metadata": {
        "id": "nD-emRnJDgiO"
      },
      "execution_count": null,
      "outputs": []
    },
    {
      "cell_type": "code",
      "metadata": {
        "id": "pxJSKalPT2xA"
      },
      "source": [
        "task = ee.batch.Export.image.toDrive(image=sub_image,\n",
        "                                     description='Aguascalientes_Sentinel2_lluvias',\n",
        "                                     scale=10,\n",
        "                                     region=geometry,\n",
        "                                     fileNamePrefix='Ags_S2',\n",
        "                                     crs='EPSG:4326',\n",
        "                                     fileFormat='GeoTIFF')\n",
        "task.start()"
      ],
      "execution_count": null,
      "outputs": []
    },
    {
      "cell_type": "markdown",
      "metadata": {
        "id": "1dq_B43MT8d_"
      },
      "source": [
        "Luego podemos verificar el estado de nuestra tarea (nota: la tarea también se registrará en la lista de tareas del Editor de código JavaScript [Code Editor's](https://code.earthengine.google.com/)) usando el método status(). Dependiendo del tamaño de la solicitud, podríamos ejecutar esta celda varias veces hasta que el estado de la tarea cambie a 'COMPLETED' (en orden, el estado de la tarea de exportación es 'READY', luego 'RUNNING' y finalmente 'COMPLETED')."
      ]
    },
    {
      "cell_type": "code",
      "metadata": {
        "id": "FHMfGQPNT9Ue"
      },
      "source": [
        "task.status()"
      ],
      "execution_count": null,
      "outputs": []
    },
    {
      "cell_type": "markdown",
      "metadata": {
        "id": "JAn5ihMPUPrQ"
      },
      "source": [
        "## Mapa interactivo usando folium\n",
        "\n",
        "Para mostrar estos conjuntos de datos de GEE en un mapa interactivo, permítame presentarles [Folium](https://python-visualization.github.io/folium/). Folium es una librería de Python basada en [leaflet.js](https://leafletjs.com/) (una librería de JavaScript de código abierto para mapas interactivos adaptados a dispositivos móviles) que puedes usar para crear mapas interactivos. Folium es compatible con capas WMS, GeoJSON, capas vectoriales y capas de mosaico, lo que lo hace muy conveniente y sencillo para visualizar los datos que manipulamos con Python. Creamos nuestro primer mapa interactivo con una sola línea de código, especificando la ubicación donde queremos centrar el mapa, el nivel de zoom y las dimensiones principales del mapa:\n"
      ]
    },
    {
      "cell_type": "code",
      "metadata": {
        "id": "zawegH1MUdlX"
      },
      "source": [
        "import folium\n",
        "\n",
        "# Define el centro y zoom\n",
        "center = [22.25, -102.25]\n",
        "zoom = 10\n",
        "\n",
        "# Crea el mapa base con folium\n",
        "m = folium.Map(location=center, zoom_start=zoom)\n",
        "\n",
        "# Define tus parámetros de visualización\n",
        "ndvi_vis = {'min': 0, 'max': 0.8, 'palette': ['brown', 'yellow', 'green']}\n",
        "rgb_secas_vis = {'bands': ['B4', 'B3', 'B2'], 'min': 0, 'max': 3000}\n",
        "rgb_lluvias_vis = {'bands': ['B4', 'B3', 'B2'], 'min': 2225, 'max': 4045}\n",
        "\n",
        "# Obtén el mapa base URL para cada imagen y agrégala a folium\n",
        "def add_ee_layer(folium_map, ee_image, vis_params, name):\n",
        "    map_id_dict = ee.Image(ee_image).getMapId(vis_params)\n",
        "    tile_url = map_id_dict['tile_fetcher'].url_format\n",
        "\n",
        "    folium.TileLayer(\n",
        "        tiles=tile_url,\n",
        "        attr='Google Earth Engine',\n",
        "        name=name,\n",
        "        overlay=True,\n",
        "        control=True\n",
        "    ).add_to(folium_map)\n",
        "\n",
        "# Agrega capas al mapa\n",
        "add_ee_layer(m, minNDVIImage.select('NDVI'), ndvi_vis, 'NDVI secas')\n",
        "add_ee_layer(m, maxNDVIImage.select('NDVI'), ndvi_vis, 'NDVI lluvias')\n",
        "add_ee_layer(m, minNDVIImage, rgb_secas_vis, 'True Color - NDVI secas')\n",
        "add_ee_layer(m, maxNDVIImage, rgb_lluvias_vis, 'True Color - NDVI lluvias')\n",
        "\n",
        "# Agrega control de capas\n",
        "folium.LayerControl().add_to(m)\n",
        "\n",
        "# Muestra el mapa\n",
        "m"
      ],
      "execution_count": null,
      "outputs": []
    },
    {
      "cell_type": "markdown",
      "metadata": {
        "id": "fuSdKLP0ntSH"
      },
      "source": [
        "Finalmente, el mapa se puede guardar en formato *HTML* usando el método save() de Folium, especificando el nombre del archivo como un argumento de este método. Si ejecutas esta celda usando Google Colab, tu archivo *HTML* se guardará en la carpeta content de tu entorno Colab. Si ejecutas esta celda localmente, el archivo se guardará en tu directorio de trabajo actual. Luego, podrás abrir tu archivo *HTML* con tu navegador favorito.\n"
      ]
    },
    {
      "cell_type": "code",
      "metadata": {
        "id": "rtL7fIuSUszw"
      },
      "source": [
        "m.save('mapa.html')"
      ],
      "execution_count": null,
      "outputs": []
    },
    {
      "cell_type": "markdown",
      "metadata": {
        "id": "PpFkh36BVLMh"
      },
      "source": [
        "##Documentación\n",
        "\n",
        "La documentación completa de la API de Python de Google Earth Engine está disponible [aquí](https://developers.google.com/earth-engine/api_docs)\n",
        "\n",
        "La Guía del Usuario de Google Earth Engine está disponible [aquí](https://developers.google.com/earth-engine)\n",
        "\n",
        "Algunos tutoriales están disponibles [aquí](https://developers.google.com/earth-engine/tutorials)"
      ]
    }
  ]
}