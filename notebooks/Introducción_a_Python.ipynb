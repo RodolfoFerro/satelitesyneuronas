{
  "cells": [
    {
      "cell_type": "markdown",
      "metadata": {
        "id": "view-in-github",
        "colab_type": "text"
      },
      "source": [
        "<a href=\"https://colab.research.google.com/github/RodolfoFerro/satelitesyneuronas/blob/main/notebooks/Introducci%C3%B3n_a_Python.ipynb\" target=\"_parent\"><img src=\"https://colab.research.google.com/assets/colab-badge.svg\" alt=\"Open In Colab\"/></a>"
      ]
    },
    {
      "cell_type": "markdown",
      "metadata": {
        "id": "QHh-pz2lJafx"
      },
      "source": [
        "# Introducción a Python\n",
        "\n",
        "**¡Te doy la más cordial bienvenida! 👋**\n",
        "\n",
        "Este será tu primer cuaderno de trabajo donde aprenderás poco a poco y de manera muy practica algunos fundamentos de programación. Una parte esencial del club va a ser la manipulación de imágenes y la generación de pequeños videos. Esto lo haremos principalmente en el lenguaje de programación Python usando notebooks de Google Colab (cuadernos de código como este que estás leyendo).\n",
        "\n",
        "A continuación, comenzaremos con una breve introducción sobre Python y el uso básico de esta herramienta.\n",
        "\n",
        "## ¿Qué es programar?\n",
        "\n",
        "Programar consiste en escribir órdenes o instrucciones para una máquina, generalmente con sentencias de código en un **lenguaje de programación**. Un lenguaje de programación es un conjunto de palabras que tienen una sintaxis y que dadas de manera en que hagan sentido, se traducen a código binario que una máquina puede interpretar.\n",
        "\n",
        "## ¿Qué es Python?\n",
        "\n",
        "<center>\n",
        "  <img width=\"40%\" src=\"https://www.python.org/static/community_logos/python-logo-generic.svg\">\n",
        "</center>\n",
        "\n",
        "Python es un lenguaje de programación interpretado, de tipado dinámico, multiparadigma y versátil que es muy simple y elegante, pero poderoso.\n",
        "\n",
        "Fue creado por Guido van Rossum (quien ha trabajado en compañías como Google y Dropbox) y fue lanzado en 1991.\n",
        "\n",
        "## ¿Por qué Python?\n",
        "\n",
        "Python se utiliza en instituciones académicas para enseñar cursos que van desde introducción a la programación hasta inteligencia artificial.  Algunas plataformas como Pinterest, Instagram e Eventbrite utilizan Python.\n",
        "\n",
        "Además de su versatilidad, Python es un lenguaje de programación de curva de aprendizaje baja y tiene una comunidad enorme en todo el mundo que constantemente está creando nuevas herramientas científicas para el lenguaje.\n",
        "\n",
        "## ¿Qué son exactamente los cuadernos de código?\n",
        "\n",
        "Un cuaderno de Colab es un ambiente interactivo para escribir y ejecutar código de Python.\n",
        "\n",
        "Es completamente auto-contenido, y puede ser convertido a varios otros formatos para compartir con amigos y colaboradores.\n",
        "\n",
        "Es particularmente popular en la comunidad de cómputo científico, ya que es una gran herramiento para análisis de datos interactivo y visualización.\n",
        "\n",
        "Puedes combinar:\n",
        "- Código\n",
        "- Widgets interactivos\n",
        "- Gráficas\n",
        "- Texto narrativo\n",
        "- Ecuaciones\n",
        "- Imágenes\n",
        "- Videos\n",
        "\n",
        "Sin más, **¡comencemos a programar!**"
      ]
    },
    {
      "cell_type": "markdown",
      "metadata": {
        "id": "LY_QKAN0Jafz"
      },
      "source": [
        "# Ejecución de código\n",
        "\n",
        "En estos cuadernos interactivos, el código se escribe en \"celdas\" (o \"cells\", en inglés).\n",
        "\n",
        "Ejecuta el código de una celda con las teclas `Shift-Enter` o presionando el botón de ▶ Play que aparece junto a la celda."
      ]
    },
    {
      "cell_type": "code",
      "execution_count": null,
      "metadata": {
        "id": "0PibyA62Jafz"
      },
      "outputs": [],
      "source": [
        "print(\"¡Hola Clubes de Ciencia! 🌊🌊🌊\")"
      ]
    },
    {
      "cell_type": "markdown",
      "metadata": {
        "id": "ONzfIonyJafz"
      },
      "source": [
        "Ejecuta esta otra celda, usando Python como una calculadora."
      ]
    },
    {
      "cell_type": "code",
      "execution_count": null,
      "metadata": {
        "id": "o5dOiXSIJafz"
      },
      "outputs": [],
      "source": [
        "2 + 2"
      ]
    },
    {
      "cell_type": "code",
      "execution_count": null,
      "metadata": {
        "collapsed": true,
        "id": "Pk_uy5jyJaf0"
      },
      "outputs": [],
      "source": [
        "# Cuando escribes el signo \"#\" al comienzo de una línea, se convierte\n",
        "# en un comentario y no se ejecuta como código (Python lo ignora)."
      ]
    },
    {
      "cell_type": "markdown",
      "metadata": {
        "id": "_j6DCP4TJaf0"
      },
      "source": [
        "Para crear una nueva celda, puedes clickear el botón de `+ Code` o `+ Text` bajo una celda.\n"
      ]
    },
    {
      "cell_type": "markdown",
      "metadata": {
        "id": "wys26CKRJaf0"
      },
      "source": [
        "**Ejercicio:** Crea una nueva celda aquí abajo e imprime un mensaje (el que tú quieras) usando el comando `print`."
      ]
    },
    {
      "cell_type": "markdown",
      "metadata": {
        "id": "5riVBBCiJaf0"
      },
      "source": [
        "**Ejercicio:** Crea una nueva celda aquí abajo y evalúa el producto `2 * 5`."
      ]
    },
    {
      "cell_type": "markdown",
      "metadata": {
        "id": "wj78fjAMJaf0"
      },
      "source": [
        "## Guardando datos en variables\n",
        "\n",
        "El \"kernel\" mantiene el \"estado\" de los cálculos hechos en un cuaderno. Por ejemplo, puedes guardar en una variable algún valor o el resultado de un cálculo. Puedes ponerle el nombre que se te antoje a tus variables (salvo ciertas [restricciones de nombramiento](https://www.w3schools.com/python/gloss_python_variable_names.asp)):\n"
      ]
    },
    {
      "cell_type": "code",
      "execution_count": null,
      "metadata": {
        "id": "UaDAmoYFJaf0"
      },
      "outputs": [],
      "source": [
        "mi_variable_1 = \"¿Cuánto es 2x4?\"\n",
        "chango_loco = 2 * 4"
      ]
    },
    {
      "cell_type": "markdown",
      "metadata": {
        "id": "U8mTvqcNJaf0"
      },
      "source": [
        "Y utilizarlas en otra celda de código:"
      ]
    },
    {
      "cell_type": "code",
      "execution_count": null,
      "metadata": {
        "id": "UFU6ZontJaf0"
      },
      "outputs": [],
      "source": [
        "print(mi_variable_1)\n",
        "print(chango_loco)\n",
        "print(\"¡Wow, magia! 🔮✨\")"
      ]
    },
    {
      "cell_type": "markdown",
      "metadata": {
        "id": "ht17uscqJaf0"
      },
      "source": [
        "**Ejercicio (4 líneas de código):**\n",
        "- Crea una nueva celda aquí abajo y guarda en una variable llamada \"mi_numero_1\" el número 5 y en otra variable, \"mi_numero_2\", el número 300.\n",
        "- Multiplica las dos variables, y asigna el resultado a una nueva variable, \"mi_numero_3\".\n",
        "- Imprime el valor de esta última variable.\n",
        "\n"
      ]
    },
    {
      "cell_type": "markdown",
      "metadata": {
        "id": "cMoYrn8OJaf0"
      },
      "source": [
        "## Pausar e interrumpir código\n",
        "\n",
        "El código se ejecuta en una cosa que se llama el \"kernel de ejecución\". Siempre que el circulito junto a la celda que ejecutamos esté activo, quiere decir que el kernel está ejecutando código, está \"pensando\".\n",
        "\n",
        "El kernel se puede interrumpir o reiniciar. Intenta correr la siguiente celda y luego presiona el botón de ⏹ Stop."
      ]
    },
    {
      "cell_type": "code",
      "execution_count": null,
      "metadata": {
        "id": "Sr4qB7evJaf0"
      },
      "outputs": [],
      "source": [
        "import time\n",
        "time.sleep(10) # Este comando hace que Python espere 10 segundos"
      ]
    },
    {
      "cell_type": "markdown",
      "metadata": {
        "id": "3FoGf-7qJaf1"
      },
      "source": [
        "## Reiniciar el kernel\n",
        "\n",
        "También puedes reiniciar el kernel por completo. Esto se hace desde el menú \"Entorno de ejecución\" desde la barra de herramientas. Cuando reinicias el kernel, se pierden los valores de todas las variables que definiste en las celdas de tu cuaderno. Si reinicias el kernel, debes volver a ejecutar todas las celdas de tu cuaderno."
      ]
    },
    {
      "cell_type": "markdown",
      "metadata": {
        "id": "_UKHTjVDJaf1"
      },
      "source": [
        "# Python básico I\n",
        "\n"
      ]
    },
    {
      "cell_type": "markdown",
      "source": [
        "## Importar módulos\n",
        "\n",
        "Los módulos de Python son colecciones o bibliotecas (_\"librerías\"_) de funciones que podemos importar a nuestro código para utilizarlas. Piénsalos como cajas de herramientas que puedes abrir para utilizar en tu código.\n",
        "\n",
        "Vamos a importar algunos módulos para la manipulación de imágenes, arreglos, y otras funciones.\n",
        "\n",
        "La manera más sencilla de importar una librería completa es así:"
      ],
      "metadata": {
        "id": "5zcYJ8K7StjB"
      }
    },
    {
      "cell_type": "code",
      "execution_count": null,
      "metadata": {
        "id": "cDLnhDI_Jaf1"
      },
      "outputs": [],
      "source": [
        "import imageio # \"imageio\" se usa para la manipulación de imágenes.\n",
        "import os # \"os\" se usa para interactuar con el sistema operativo."
      ]
    },
    {
      "cell_type": "markdown",
      "metadata": {
        "id": "cW3TkxLAJaf1"
      },
      "source": [
        "O podemos importar la librería y darle el nombre que queramos dentro de nuestro cuaderno:"
      ]
    },
    {
      "cell_type": "code",
      "execution_count": null,
      "metadata": {
        "collapsed": true,
        "id": "r75jYmYHJaf1"
      },
      "outputs": [],
      "source": [
        "import numpy as np # Importamos el paquete de métodos numéricos y lo llamamos \"np\".\n",
        "import matplotlib.pyplot as plt # Es un paquete para graficar, ahora se llama \"plt\" en nuestro cuaderno.\n",
        "import matplotlib.image as mpimg # Es otro paquete para manipular imágenes."
      ]
    },
    {
      "cell_type": "markdown",
      "metadata": {
        "id": "SzZeb2C9Jaf1"
      },
      "source": [
        "Una vez que importas un módulo, puedes comenzar a utilizarlo en tu código.\n",
        "\n",
        "Por ejemplo, utilizemos la función `zeros` dentro de el módulo `numpy` (`np`) para crear arreglos de ceros de distintas dimensiones, asignarlos a variables, e imprimirlos.\n",
        "\n",
        "(¡Más adelante aprenderemos mucho más sobre arreglos! ✨)"
      ]
    },
    {
      "cell_type": "code",
      "execution_count": null,
      "metadata": {
        "id": "t4r9zqprJaf1"
      },
      "outputs": [],
      "source": [
        "# Usamos la función zeros para crear un vector/arreglo de 0s\n",
        "# y con tamaño/longitud de 5\n",
        "mi_arreglo_1 = np.zeros(5)\n",
        "\n",
        "print(mi_arreglo_1)"
      ]
    },
    {
      "cell_type": "code",
      "execution_count": null,
      "metadata": {
        "id": "hekWWlwTJaf1"
      },
      "outputs": [],
      "source": [
        "# Usamos la función zeros para crear un arreglo de 0s\n",
        "# de tamaño 5 x 2 (5 renglones, 2 columnas)\n",
        "mi_arreglo_2 = np.zeros((5, 2))\n",
        "print(mi_arreglo_2)"
      ]
    },
    {
      "cell_type": "markdown",
      "metadata": {
        "id": "sGUiaQDDJaf1"
      },
      "source": [
        "**Ejercicio  (dos líneas de código):**\n",
        "- Utiliza la función `ones` de Numpy para crear una arreglo de unos (`[1, 1, 1, ...]`) de dos dimensiones de tamaño 10 renglones y 3 columnas.\n",
        "- Asígnalo a una variable (usa el nombre que tú quieras) e imprime el resultado."
      ]
    },
    {
      "cell_type": "code",
      "execution_count": null,
      "metadata": {
        "id": "OOMBtK_cJaf1"
      },
      "outputs": [],
      "source": []
    },
    {
      "cell_type": "markdown",
      "metadata": {
        "id": "PXyZTY0JJaf1"
      },
      "source": [
        "## Cargar y mostrar una imagen\n",
        "\n",
        "Ahora, vamos a usar el módulo `matplotlib.image` (llamado `mpimg` en nuestro código) para leer una imagen en formato PNG.\n",
        "\n",
        "También usaremos el módulo `matplotlib.pyplot` (llamado `plt` en nuestro código) para mostrarla dentro del cuaderno.\n",
        "\n",
        "Es importante que descargues y subas a este cuaderno la imagen `\"color_wheel.png\"`. Puedes encontrar la imagen en este link: https://github.com/RodolfoFerro/expansion-sesorial/tree/main/assets/images"
      ]
    },
    {
      "cell_type": "code",
      "execution_count": null,
      "metadata": {
        "id": "zt12tLSXJaf1"
      },
      "outputs": [],
      "source": [
        "# Leeremos la imagen que está guardada en el archivo \"color_wheel.png\",\n",
        "# es importante que subas la función manualmente o ejecutes el código\n",
        "# auxiliar de la celda debajo para poder tener la imagen en la memoria\n",
        "# del cuaderno.\n",
        "\n",
        "# Para leer la imagen usaremos la función \"imread\" del módulo\n",
        "# matplotlib.image (\"mpimg\") y la guardaremos en una variable \"img\"\n",
        "img = mpimg.imread(\"color_wheel.png\")\n",
        "\n",
        "\n",
        "# Podemos mostrar la imagen que guardamos en la variable \"img\"\n",
        "# usando la función \"imshow\", del módulo matplotlib.pyplot (\"plt\")\n",
        "plt.imshow(img)\n",
        "plt.axis(\"off\")"
      ]
    },
    {
      "cell_type": "code",
      "source": [
        "# Código de utilería para cargar la imagen automáticamente.\n",
        "!wget https://raw.githubusercontent.com/RodolfoFerro/expansion-sesorial/main/assets/images/color_wheel.png"
      ],
      "metadata": {
        "id": "FmaQQ7pJWy1W"
      },
      "execution_count": null,
      "outputs": []
    },
    {
      "cell_type": "markdown",
      "metadata": {
        "id": "aTLbskT1Jaf1"
      },
      "source": [
        "Investiguemos y comprendamos un poco más cómo se representa una imagen en Python.\n",
        "\n",
        "Vamos a imprimir la variable \"img\" (ojo, no la mostraremos como imagen), en donde guardamos la imagen que leímos del archivo."
      ]
    },
    {
      "cell_type": "code",
      "execution_count": null,
      "metadata": {
        "scrolled": true,
        "id": "jJTUJYLyJaf2"
      },
      "outputs": [],
      "source": [
        "print(img)\n",
        "# print(img[400, 100, :])"
      ]
    },
    {
      "cell_type": "markdown",
      "metadata": {
        "id": "hHxGGx4TJaf2"
      },
      "source": [
        "Como puedes ver, una imagen no es más que un arreglo de muchos números (en este caso, con valores entre 0 y 1).\n",
        "\n",
        "Por esta razón, como queremos volvernos expertas y expertos en manipular archivos de imágenes con Python, tenemos que aprender más sobre las propiedades de los arreglos y cómo manipularlos."
      ]
    },
    {
      "cell_type": "markdown",
      "metadata": {
        "id": "oEb89kXLJaf2"
      },
      "source": [
        "## Numpy:  Trabajando con arreglos y matrices\n",
        "\n",
        "Como ya viste, para crear y manipular arreglos, podemos usar el módulo Numpy, el cual ya importamos a nuestro cuaderno (con el nombre `np`) algunas celdas arriba.\n",
        "\n",
        "¿Quieres saber más sobre el módulo Numpy? Haz click en la imagen a continuación:\n",
        "\n",
        "<center>\n",
        "    <a href=\"http://www.numpy.org/\" target=\"_blank\">\n",
        "    <img width=\"20%\" src=\"https://numpy.org/images/logo.svg\">\n",
        "    </a>\n",
        "</center>"
      ]
    },
    {
      "cell_type": "markdown",
      "metadata": {
        "id": "3-HLea6FJaf2"
      },
      "source": [
        "Una función que es muy útil dentro de Numpy es `arange`, la cual nos permite crear una lista de números en el rango e incremento que nosotros queramos:"
      ]
    },
    {
      "cell_type": "code",
      "execution_count": null,
      "metadata": {
        "id": "ziNjWpKQJaf2"
      },
      "outputs": [],
      "source": [
        "# Para crear una lista de números del 0 al 10 en\n",
        "# incrementos de 1 en 1, podemos hacer:\n",
        "numeros = np.arange(0, 11, 1)\n",
        "print(numeros)"
      ]
    },
    {
      "cell_type": "markdown",
      "metadata": {
        "id": "4dAiFzIuJaf2"
      },
      "source": [
        "Para crear un arreglo de números que empieza en 10, acaba en 100, y va en intervalos de 5, haríamos lo siguiente:"
      ]
    },
    {
      "cell_type": "code",
      "execution_count": null,
      "metadata": {
        "id": "ThsO00hVJaf2"
      },
      "outputs": [],
      "source": [
        "numeros = np.arange(10, 101, 5)\n",
        "print(numeros)"
      ]
    },
    {
      "cell_type": "markdown",
      "metadata": {
        "id": "Qv0QMgqdJaf2"
      },
      "source": [
        "Nota que, al volver a definir la variable \"numeros\", ésta quedo reemplazada con el nuevo arreglo de datos, y se borró su valor anterior."
      ]
    },
    {
      "cell_type": "markdown",
      "metadata": {
        "id": "pgJCKWSLJaf2"
      },
      "source": [
        "**Ejercicio (dos líneas de código):**\n",
        "- Crea una lista de números del 2 al 24, en intervalos de 2.\n",
        "- Guárdala en una variable con el nombre que quieras, e imprímela."
      ]
    },
    {
      "cell_type": "code",
      "execution_count": null,
      "metadata": {
        "id": "_rpA9WrlJagB"
      },
      "outputs": [],
      "source": []
    },
    {
      "cell_type": "markdown",
      "metadata": {
        "id": "miyh2nkJJagB"
      },
      "source": [
        "Como vimos antes, usando la función \"zeros\", podemos crear arreglos de puros 0´s de la dimensión y tamaño que querramos."
      ]
    },
    {
      "cell_type": "markdown",
      "metadata": {
        "id": "EacPQkJtJagB"
      },
      "source": [
        "#### **1 dimensión**\n",
        "\n",
        "Un arreglo de 1 dimensión lo puedes pensar como una lista de números:\n"
      ]
    },
    {
      "cell_type": "code",
      "execution_count": null,
      "metadata": {
        "id": "a45f7te7JagB"
      },
      "outputs": [],
      "source": [
        "# 1 dimensión\n",
        "vacio_1D = np.zeros(6)\n",
        "print(vacio_1D)"
      ]
    },
    {
      "cell_type": "markdown",
      "metadata": {
        "id": "H_ejkf02JagB"
      },
      "source": [
        "Puedes llenar o modifica el valor de un elemento del arreglo usando su \"índice\".\n",
        "\n",
        "**Algo muy importante es que en Python siempre se empieza a contar desde 0.**"
      ]
    },
    {
      "cell_type": "code",
      "execution_count": null,
      "metadata": {
        "id": "bQL-UaxVJagB"
      },
      "outputs": [],
      "source": [
        "vacio_1D[0] = 5 # El elemento 0 es el primer elemento.\n",
        "print(vacio_1D)"
      ]
    },
    {
      "cell_type": "code",
      "source": [
        "vacio_1D[2] = 8 # El elemento 2 es el tercer elemento.\n",
        "print(vacio_1D)"
      ],
      "metadata": {
        "id": "6YqwE5HSY2J5"
      },
      "execution_count": null,
      "outputs": []
    },
    {
      "cell_type": "markdown",
      "metadata": {
        "id": "uxxS2MtTJagB"
      },
      "source": [
        "Puedes hacer un arreglo de 1 dimensión que vaya del 0 al 10, en incrementos de 1, con el comando `arange` de Numpy:"
      ]
    },
    {
      "cell_type": "code",
      "execution_count": null,
      "metadata": {
        "id": "x5TYlcT9JagB"
      },
      "outputs": [],
      "source": [
        "mi_arreglo = np.arange(0, 11, 1)\n",
        "print(mi_arreglo)"
      ]
    },
    {
      "cell_type": "markdown",
      "metadata": {
        "id": "bF9HMbEFJagB"
      },
      "source": [
        "Y del 20 al 40, en intervalos de 2, sería así:"
      ]
    },
    {
      "cell_type": "code",
      "execution_count": null,
      "metadata": {
        "id": "O0IO8ydcJagB"
      },
      "outputs": [],
      "source": [
        "mi_arreglo = np.arange(20, 41, 2)\n",
        "print(mi_arreglo)"
      ]
    },
    {
      "cell_type": "markdown",
      "metadata": {
        "id": "kgayRWHiJagB"
      },
      "source": [
        "**Ejercicio:**\n",
        "- Genera un arreglo de 1 dimensión que vaya del 10 al 100, en intervalos de 5.\n",
        "- Guárdalo en una variable (escoje el nombre que quieras), e imprímela."
      ]
    },
    {
      "cell_type": "code",
      "execution_count": null,
      "metadata": {
        "id": "38X1URaZJagB"
      },
      "outputs": [],
      "source": []
    },
    {
      "cell_type": "markdown",
      "metadata": {
        "id": "1GVHYa_FJagB"
      },
      "source": [
        "**Ejercicio:** Sustituye el primer elemento de tu arreglo con el número 500, imprime el nuevo arreglo."
      ]
    },
    {
      "cell_type": "code",
      "execution_count": null,
      "metadata": {
        "id": "ZTtGpEe0JagB"
      },
      "outputs": [],
      "source": []
    },
    {
      "cell_type": "markdown",
      "metadata": {
        "id": "Uo_U6gvPJagC"
      },
      "source": [
        "#### **2 dimensiones**\n",
        "\n",
        "Un arreglo de dos dimensiones `(MxN)` lo puedes ver como una matriz, con `M` renglones y `N` columnas."
      ]
    },
    {
      "cell_type": "code",
      "execution_count": null,
      "metadata": {
        "id": "Oiqfj7B9JagC"
      },
      "outputs": [],
      "source": [
        "# 2 dimensiones\n",
        "vacio_2D = np.zeros((4, 3)) # 4 renglones, 3 columnas, llena de 0's\n",
        "print(vacio_2D)"
      ]
    },
    {
      "cell_type": "markdown",
      "metadata": {
        "id": "RvHLbWxvJagC"
      },
      "source": [
        "Puedes llenar o accesar elementos individules usando parejas de índices: (renglón, columna)"
      ]
    },
    {
      "cell_type": "code",
      "execution_count": null,
      "metadata": {
        "id": "hdsvkEl1JagC"
      },
      "outputs": [],
      "source": [
        "vacio_2D[0, 0] = 10\n",
        "vacio_2D[1, 1] = 15\n",
        "print(vacio_2D)"
      ]
    },
    {
      "cell_type": "markdown",
      "metadata": {
        "id": "m_OWwUQvJagC"
      },
      "source": [
        "También puedes llenar un renglón o una columna entera con un arreglo, de la siguiente manera:"
      ]
    },
    {
      "cell_type": "code",
      "execution_count": null,
      "metadata": {
        "id": "L8p2vdYLJagC"
      },
      "outputs": [],
      "source": [
        "# La notación [0, :] quiere decir \"el renglón 0 y todas las columnas\".\n",
        "\n",
        "# Estamos llenando el primer renglón con un arreglo de 1´s\n",
        "vacio_2D[0, :] = np.ones(3)\n",
        "\n",
        "# Estamos llenando el último renglón con un arreglo de 100´s\n",
        "vacio_2D[3, :] = 100 * np.ones(3)\n",
        "\n",
        "print(vacio_2D)"
      ]
    },
    {
      "cell_type": "markdown",
      "metadata": {
        "id": "WX-h7yKTJagC"
      },
      "source": [
        "Para imprimir solo un renglón, o solo una columna, harías:"
      ]
    },
    {
      "cell_type": "code",
      "execution_count": null,
      "metadata": {
        "id": "MeVDpPPlJagC"
      },
      "outputs": [],
      "source": [
        "print(\"El primer renglon:\")\n",
        "print(vacio_2D[0, :])\n",
        "\n",
        "print(\"La primera columna:\")\n",
        "print(vacio_2D[:, 0])"
      ]
    },
    {
      "cell_type": "markdown",
      "metadata": {
        "id": "2rs-CV-PJagC"
      },
      "source": [
        "**Ejercicio:**\n",
        "- Crea un arreglo de ceros de 2 dimensiones de 5X5.\n",
        "- Llena la primera **columna** con puros 35.\n",
        "- Imprime el arreglo."
      ]
    },
    {
      "cell_type": "code",
      "execution_count": null,
      "metadata": {
        "id": "UWgr1upFJagC"
      },
      "outputs": [],
      "source": []
    },
    {
      "cell_type": "markdown",
      "metadata": {
        "id": "YVJmsghkJagC"
      },
      "source": [
        "#### **3 dimensiones**\n",
        "\n",
        "Un arreglo de 3 dimensiones `(MxNxP)` lo puedes pensar como un \"cubo\" de datos, o como `P` matrices de `MxN` (`M` renglones y `N` columnas).\n",
        "\n",
        "Veremos que los archivos de imagenes son arreglos de 3 dimensiones, con una matriz para cada canal de color (Rojo, Verde y Azul, o RGB)"
      ]
    },
    {
      "cell_type": "code",
      "execution_count": null,
      "metadata": {
        "id": "AuNYKjS5JagC"
      },
      "outputs": [],
      "source": [
        "# 3 dimensiones\n",
        "vacio_3D = np.zeros((2, 4, 3))\n",
        "# print(vacio_3D)"
      ]
    },
    {
      "cell_type": "markdown",
      "metadata": {
        "id": "JGJunqaDJagC"
      },
      "source": [
        "Piensa el arreglo de arriba, `vacio_3D`, como 3 matrices de `2X4` (2 renglones, 4 columnas), una detrás (o encima) de la otra.\n",
        "\n",
        "Podemos llenar una de las matrices de `2X4` entera a la vez, de la siguiente manera.\n",
        "\n",
        "(**OJO:** Esto va a ser **MUY** útil cuando estemos trabajando con imágenes)."
      ]
    },
    {
      "cell_type": "code",
      "execution_count": null,
      "metadata": {
        "id": "3lfy4-5-JagC"
      },
      "outputs": [],
      "source": [
        "# Una matriz de 1's, con dos renglones, cuatro columnas\n",
        "vacio_3D[:, :, 0] = np.ones((2, 4))\n",
        "\n",
        "# Todos los renglones, todas las columnas de la \"primera\" matriz\n",
        "print(\"Esta es la 'primera' matriz de nuestro arreglo 3D\")\n",
        "print(vacio_3D[:, :, 0])\n",
        "\n",
        "# Todos los renglones, todas las columnas de la \"segunda\" matriz\n",
        "print(\"Esta es la 'segunda' matriz de nuestro arreglo 3D\")\n",
        "print(vacio_3D[:, :, 1])"
      ]
    },
    {
      "cell_type": "markdown",
      "metadata": {
        "id": "8r-SfPfFJagC"
      },
      "source": [
        "Y para averiguar las dimensiones de un arreglo, usamos nombre_arreglo.shape"
      ]
    },
    {
      "cell_type": "code",
      "execution_count": null,
      "metadata": {
        "id": "lerVQ1pIJagC"
      },
      "outputs": [],
      "source": [
        "print(\"Las dimensiones de nuestro arreglo 3D son:\")\n",
        "print(vacio_3D.shape)\n",
        "\n",
        "dim_1 = vacio_3D.shape[0] # Recuerda que Python cuenta desde cero\n",
        "dim_2 = vacio_3D.shape[1]\n",
        "dim_3 = vacio_3D.shape[2]\n",
        "print(dim_1)\n",
        "print(dim_2)\n",
        "print(dim_3)"
      ]
    },
    {
      "cell_type": "markdown",
      "metadata": {
        "id": "PS3vJ1ZeJagD"
      },
      "source": [
        "**Ejercicio:**\n",
        "- Crea un arreglo de 3 dimensiones, con tamaño `4x5x3`, lleno de ceros.\n",
        "- Llena la primera matriz - coordenadas `[:, :, 0]` con puros 1's, y la tercera matriz con puros números 4´s.\n",
        "- Imprime el arreglo, una matriz a la vez."
      ]
    },
    {
      "cell_type": "code",
      "execution_count": null,
      "metadata": {
        "id": "8TgtypLHJagD"
      },
      "outputs": [],
      "source": []
    },
    {
      "cell_type": "markdown",
      "metadata": {
        "id": "fcnvEf-IJagD"
      },
      "source": [
        "Finalmente, podemos tomar cualquier arreglo y \"re-arreglarlo\" como otro de menor o mayor dimensión. Para hacer esto, utilizamos la función \"reshape\".\n",
        "\n",
        "Por ejemplo, podemos tomar una matriz de `2x3`, y re-arreglarlo como un arreglo 1D con 6 elementos.\n",
        "\n",
        "**Nota:** Observa que el total de elementos reordenados debe mantenerse."
      ]
    },
    {
      "cell_type": "code",
      "execution_count": null,
      "metadata": {
        "id": "EIMd1lP-JagD"
      },
      "outputs": [],
      "source": [
        "matriz_1 = np.ones((2, 3))\n",
        "print(\"Esta es la matriz de 2 por 3:\")\n",
        "print(matriz_1)\n",
        "\n",
        "arreglo_1 = np.reshape(matriz_1, 6)\n",
        "print(\"Este es el arreglo con 6 elementos:\")\n",
        "print(arreglo_1)"
      ]
    },
    {
      "cell_type": "markdown",
      "metadata": {
        "id": "Ob3H8rx-JagD"
      },
      "source": [
        "Regresemos ahora al ejemplo de nuestra imagen."
      ]
    },
    {
      "cell_type": "markdown",
      "metadata": {
        "id": "1MeoUhh8JagD"
      },
      "source": [
        "# Entendiendo la estructura de imágenes en Python\n",
        "\n",
        "Vamos a repasar cómo leer una imagen y mostrarla:"
      ]
    },
    {
      "cell_type": "code",
      "execution_count": null,
      "metadata": {
        "id": "da5GTlm0JagD"
      },
      "outputs": [],
      "source": [
        "img = mpimg.imread(\"color_wheel.png\")\n",
        "plt.imshow(img)\n",
        "plt.axis(\"off\")"
      ]
    },
    {
      "cell_type": "markdown",
      "metadata": {
        "id": "g3xLtvSkJagD"
      },
      "source": [
        "Ahora que sabes cómo manipular arreglos, vamos a ver qué dimensiones tiene la imagen."
      ]
    },
    {
      "cell_type": "markdown",
      "metadata": {
        "id": "nn_PbsJ3JagD"
      },
      "source": [
        "**Ejercicio:** Imprime las dimensiones de la imagen `img`."
      ]
    },
    {
      "cell_type": "code",
      "execution_count": null,
      "metadata": {
        "id": "GJqJpL6pJagD"
      },
      "outputs": [],
      "source": []
    },
    {
      "cell_type": "markdown",
      "metadata": {
        "id": "e4yUdeZ2JagD"
      },
      "source": [
        "**Pregunta:** Si podemos pensar en los arreglos 3D como varias matrices (2D), ¿cuántas matrices hay en nuestra imagen?"
      ]
    },
    {
      "cell_type": "code",
      "execution_count": null,
      "metadata": {
        "collapsed": true,
        "id": "lUoEHD6kJagD"
      },
      "outputs": [],
      "source": []
    },
    {
      "cell_type": "markdown",
      "metadata": {
        "id": "ofR_85HeJagD"
      },
      "source": [
        "## Canales\n",
        "\n",
        "Las imágenes digitales tienen, en general, tres canales de color: Rojo (R), Verde (G) y Azul (B). La primera matriz de nuestra imagen es la R, la segunda la G, y la tercera la B:"
      ]
    },
    {
      "cell_type": "code",
      "execution_count": null,
      "metadata": {
        "collapsed": true,
        "id": "OXKVby2ZJagD"
      },
      "outputs": [],
      "source": [
        "canal_rojo = img[:, :, 0]\n",
        "canal_verde = img[:, :, 1]\n",
        "canal_azul = img[:, :, 2]"
      ]
    },
    {
      "cell_type": "markdown",
      "metadata": {
        "id": "AQYECvMyJagD"
      },
      "source": [
        "**¿Qué es el cuarto canal/matriz?** Se llama el canal \"alpha\" y controla la \"transparencia\" de una imagen. Lo vamos a ignorar por ahora."
      ]
    },
    {
      "cell_type": "code",
      "execution_count": null,
      "metadata": {
        "collapsed": true,
        "id": "ni3Q4g8LJagD"
      },
      "outputs": [],
      "source": [
        "canal_alpha = img[:, :, 3]"
      ]
    },
    {
      "cell_type": "markdown",
      "metadata": {
        "id": "PIkVdM99JagE"
      },
      "source": [
        "Si queremos ver sólo el canal rojo de la imagen, necesitamos tomar ese canal pero fijar el resto de los canales (verde y azul) en ceros."
      ]
    },
    {
      "cell_type": "code",
      "execution_count": null,
      "metadata": {
        "id": "8HhgQYqhJagE"
      },
      "outputs": [],
      "source": [
        "# Hacemos un arreglo con las mismas dimensiones que la imagen:\n",
        "img_rojo = np.zeros((730, 730, 4))\n",
        "\n",
        "# Vamos a llenar el canal rojo de img_rojo con el canal rojo de img\n",
        "img_rojo[:, :, 0] = canal_rojo\n",
        "\n",
        "# y vamos a fijar el canal alpha con el mismo valor que la img.\n",
        "img_rojo[:, :, 3] = canal_alpha\n",
        "\n",
        "plt.imshow(img_rojo)\n",
        "plt.axis(\"off\")"
      ]
    },
    {
      "cell_type": "markdown",
      "metadata": {
        "id": "BmbWk1hwJagE"
      },
      "source": [
        "**Ejercicio:** Es tu turno, haz lo mismo que hicimos arriba con el canal rojo, pero ahora con el canal verde.\n"
      ]
    },
    {
      "cell_type": "code",
      "execution_count": null,
      "metadata": {
        "id": "U_7yQM99JagE"
      },
      "outputs": [],
      "source": []
    },
    {
      "cell_type": "markdown",
      "metadata": {
        "id": "m8zWsxQqJagE"
      },
      "source": [
        "**Ejercicio:** Y ahora con el canal azul."
      ]
    },
    {
      "cell_type": "code",
      "execution_count": null,
      "metadata": {
        "id": "o1LHMrWFJagE"
      },
      "outputs": [],
      "source": []
    },
    {
      "cell_type": "markdown",
      "metadata": {
        "id": "dTqCINBwJagE"
      },
      "source": [
        "¡Excelente! Ya sabes descomoponer una imagen por sus canales de color.\n",
        "\n",
        "Regresemos a cosas básicas en Python.\n"
      ]
    },
    {
      "cell_type": "markdown",
      "source": [
        "# Python básico II"
      ],
      "metadata": {
        "id": "8FF459v-l4sD"
      }
    },
    {
      "cell_type": "markdown",
      "metadata": {
        "id": "T0H4zQ7RJagE"
      },
      "source": [
        "## For loops\n",
        "\n",
        "Un \"for loop\" va sobre cada uno de los elementos de un arreglo.\n",
        "\n",
        "Es muy importante notar que tienes que **indentar** lo que va adentro del for loop de tu código, es decir, cuidar la sintaxis.\n",
        "\n",
        "Por ejemplo, vamos a imprimir todos los elementos de un arreglo 1D.\n"
      ]
    },
    {
      "cell_type": "code",
      "execution_count": null,
      "metadata": {
        "id": "tQUmaXovJagE"
      },
      "outputs": [],
      "source": [
        "mi_arreglo = np.arange(5, 35, 5)\n",
        "\n",
        "print(\"Así imprimimos el arreglo completo.\")\n",
        "print(mi_arreglo)\n",
        "print()\n",
        "\n",
        "print(\"Ahora imprimimos un elemento a la vez:\")\n",
        "\n",
        "# Aquí va el \"for loop\"\n",
        "for elemento in mi_arreglo:\n",
        "    print(elemento)"
      ]
    },
    {
      "cell_type": "markdown",
      "metadata": {
        "id": "BAM-PDT6JagE"
      },
      "source": [
        "Otra forma de hacer lo mismo es la que sigue (esta forma nos va a ser muy útil). Usamos la funcion `range` para iterar sobre los **índices** del arreglo."
      ]
    },
    {
      "cell_type": "code",
      "execution_count": null,
      "metadata": {
        "id": "zb9NmzQCJagE"
      },
      "outputs": [],
      "source": [
        "longitud = mi_arreglo.shape[0]\n",
        "print(\"La longitud del arreglo es:\")\n",
        "print(longitud)\n",
        "\n",
        "print(\"La funcion range(longitud) nos da los indices que \\\n",
        "podemos usar para accesar los elementos del arreglo\")\n",
        "print(range(longitud))\n",
        "\n",
        "# print(list(range(longitud)))"
      ]
    },
    {
      "cell_type": "code",
      "execution_count": null,
      "metadata": {
        "id": "NbkPROIEJagE"
      },
      "outputs": [],
      "source": [
        "# Iteramos a sobre los índices\n",
        "for indice in range(longitud):\n",
        "    # Y los usamos para accesar a los elementos del arreglo\n",
        "    print(mi_arreglo[indice])"
      ]
    },
    {
      "cell_type": "markdown",
      "metadata": {
        "id": "rulmXGn-JagE"
      },
      "source": [
        "Si estamos trabajando con un arreglo de dos dimensiones, podemos hacer un \"for loop\" doble (o \"anidado\") usando la función `range`:"
      ]
    },
    {
      "cell_type": "code",
      "execution_count": null,
      "metadata": {
        "id": "RhSf43InJagE"
      },
      "outputs": [],
      "source": [
        "# Primero voy a crear una matriz de 4 por 5\n",
        "mi_matriz = np.zeros((4, 5))\n",
        "mi_matriz[:, 0] = np.ones(4)\n",
        "mi_matriz[:, 2] = 3 * np.ones(4)\n",
        "mi_matriz[:, 4] = 10 * np.ones(4)\n",
        "\n",
        "print(mi_matriz)"
      ]
    },
    {
      "cell_type": "markdown",
      "metadata": {
        "id": "Kfcv6Do3JagE"
      },
      "source": [
        "Ahora va el doble \"for loop\""
      ]
    },
    {
      "cell_type": "code",
      "execution_count": null,
      "metadata": {
        "id": "Bb4mplNfJagE"
      },
      "outputs": [],
      "source": [
        "# Trata de entender lo que está sucediendo en estas líneas de código:\n",
        "dim_1 = mi_matriz.shape[0] # El numero de renglones\n",
        "dim_2 = mi_matriz.shape[1] # El numero de columnas\n",
        "\n",
        "for indice_1 in range(dim_1): # Iteramos sobre los índices de los renglones\n",
        "    print(\"Este es el renglon:\", indice_1)\n",
        "    for indice_2 in range(dim_2): # Y, dentro de cada renglon, iteramos sobre las columnas\n",
        "        print(mi_matriz[indice_1, indice_2]) # I accesamos cada elemento de la matriz"
      ]
    },
    {
      "cell_type": "markdown",
      "metadata": {
        "id": "IV8ezpaoJagE"
      },
      "source": [
        "## `if` - condicionales\n",
        "\n",
        "Las sentencias condicionales (conditional statements en inglés), nos ayudan a tomar decisiones de si el programa va a tomar una acción o no.\n",
        "\n",
        "Se usan para pedirle al código que \"si tal cosa es cierta o se satisface, entonces haga tal cosa\".\n",
        "\n"
      ]
    },
    {
      "cell_type": "code",
      "execution_count": null,
      "metadata": {
        "id": "qECxWxATJagE"
      },
      "outputs": [],
      "source": [
        "# Va un ejemplo sencillo con un arreglo de una dimensión.\n",
        "mi_arreglo = np.arange(0, 20, 2)\n",
        "print(mi_arreglo)"
      ]
    },
    {
      "cell_type": "markdown",
      "metadata": {
        "id": "hgAQ1tBgJagF"
      },
      "source": [
        "Usaremos un \"if statement\" para imprimir solo los valores del arreglo mayores a 10."
      ]
    },
    {
      "cell_type": "code",
      "execution_count": null,
      "metadata": {
        "id": "0-Sg7Ek-JagF"
      },
      "outputs": [],
      "source": [
        "for index in range(len(mi_arreglo)): # Iteramos sobre los indices\n",
        "    if mi_arreglo[index] > 10: # Así se usan los \"if statements\"\n",
        "        print(mi_arreglo[index])"
      ]
    },
    {
      "cell_type": "markdown",
      "metadata": {
        "id": "3unhIODOJagF"
      },
      "source": [
        "Podemos combinar los dobles \"for loops\" (con matrices de 2D) y un \"if statement\" para cambiar de color todos los pixeles que satisfagan cierta condición.\n",
        "\n",
        "Por ejemplo, vamos a tomar nuestra imagen de colores, y cambiar a color negro todos los pixeles cuyo valor en el canal rojo sea mayor al número 0.99"
      ]
    },
    {
      "cell_type": "code",
      "execution_count": null,
      "metadata": {
        "collapsed": true,
        "id": "TA0gm1D-JagF"
      },
      "outputs": [],
      "source": [
        "# Primero tomamos el canal rojo de la imagen \"img\"\n",
        "canal_rojo = img[:, :, 0]\n",
        "\n",
        "# Y hacemos una copia de la imagen, la cual vamos a manipular.\n",
        "img_copy = img.copy()"
      ]
    },
    {
      "cell_type": "markdown",
      "metadata": {
        "id": "Nd6HDwLAJagF"
      },
      "source": [
        "Y aqui usamos lo que aprendimos del doble for loop para iterar sobre cada [renglon,columna]"
      ]
    },
    {
      "cell_type": "code",
      "execution_count": null,
      "metadata": {
        "id": "fT24X3y4JagF"
      },
      "outputs": [],
      "source": [
        "dim1 = img.shape[0]\n",
        "dim2 = img.shape[1]\n",
        "\n",
        "for ind1 in range(dim1): # Iteramos sobre los indices de los renglones\n",
        "    for ind2 in range(dim2): # Y, dentro de cada renglon, iteramos sobre las columnas\n",
        "        if canal_rojo[ind1, ind2] > 0.99: # Si el pixel satisface la condicion,\n",
        "            img_copy[ind1, ind2, 0] = 0   # lo cambiamos al color negro (R=G=B=0)\n",
        "            img_copy[ind1, ind2, 1] = 0\n",
        "            img_copy[ind1, ind2, 2] = 0"
      ]
    },
    {
      "cell_type": "markdown",
      "metadata": {
        "id": "N_AyR8D_JagF"
      },
      "source": [
        "Notaste la indentación después del `if`? (y los dos puntos `:` )"
      ]
    },
    {
      "cell_type": "code",
      "execution_count": null,
      "metadata": {
        "id": "Q5kgX0FzJagF"
      },
      "outputs": [],
      "source": [
        "# Aquí mostramos la imagen original\n",
        "plt.imshow(img)\n",
        "plt.axis(\"off\")"
      ]
    },
    {
      "cell_type": "code",
      "execution_count": null,
      "metadata": {
        "id": "jocGzR4kJagF"
      },
      "outputs": [],
      "source": [
        "# Aquí mostramos la imagen modificada. ¡Observa que parte del\n",
        "# amarillo/naranja tambien satisface la condición!\n",
        "plt.imshow(img_copy)\n",
        "plt.axis(\"off\")"
      ]
    },
    {
      "cell_type": "markdown",
      "metadata": {
        "id": "bNHrZkM6JagF"
      },
      "source": [
        "**Ejercicio:**\n",
        "- Ahora, escribe líneas de código para cambiar todos los pixeles que tengan un valor en el canal azul mayor que 0.8 al color blanco.\n",
        "- Recuerda que tienes que primero hacer una copia de la imagen original `img`."
      ]
    },
    {
      "cell_type": "code",
      "execution_count": null,
      "metadata": {
        "collapsed": true,
        "id": "t-EIVuVwJagF"
      },
      "outputs": [],
      "source": []
    },
    {
      "cell_type": "code",
      "execution_count": null,
      "metadata": {
        "id": "NxqI3woHJagF"
      },
      "outputs": [],
      "source": []
    },
    {
      "cell_type": "markdown",
      "metadata": {
        "id": "EUDaDgEtJagF"
      },
      "source": [
        "##  Funciones\n",
        "\n",
        "Las funciones son secciones de un programa que puedes crear para que hagan cierta tarea. Cada función recibe una entrada (input) y regresa una salida (output). Pero también puede ser una rutina que \"hace\" algo sin regresar nada.\n",
        "\n",
        "Van unos ejemplos:"
      ]
    },
    {
      "cell_type": "code",
      "execution_count": null,
      "metadata": {
        "collapsed": true,
        "id": "w_iFV7hsJagF"
      },
      "outputs": [],
      "source": [
        "# Esta funcion te permite visualizar imagenes de manera mas \"bonita\".\n",
        "def visualizar_imagen(imagen):\n",
        "    \"\"\"Función para visualizar una imagen.\"\"\"\n",
        "\n",
        "    fig = plt.figure(figsize=(7, 7))\n",
        "    ax = fig.add_subplot(111)\n",
        "    ax.imshow(imagen, interpolation=\"gaussian\")\n",
        "    ax.get_xaxis().set_visible(False)\n",
        "    ax.get_yaxis().set_visible(False)"
      ]
    },
    {
      "cell_type": "code",
      "execution_count": null,
      "metadata": {
        "id": "WWSyJrMoJagF"
      },
      "outputs": [],
      "source": [
        "# Ya que definimos la funcion en la celda de arriba (si la ejecutaste),\n",
        "# ¡ya podemos usarla!\n",
        "visualizar_imagen(img)"
      ]
    },
    {
      "cell_type": "markdown",
      "metadata": {
        "id": "aYIgF66WJagF"
      },
      "source": [
        "**Va otro ejemplo:**\n",
        "\n",
        "Esta función te permite obtener el \"histograma\" de los valores de los pixeles de una imagen.\n",
        "\n",
        "Si no sabes lo que es un histograma, ¡pídele a tu instructor que te explique!"
      ]
    },
    {
      "cell_type": "code",
      "execution_count": null,
      "metadata": {
        "collapsed": true,
        "id": "VlhmH0nNJagF"
      },
      "outputs": [],
      "source": [
        "def histograma_imagen(imagen):\n",
        "    \"\"\"Función para obtener el histograma de una imagen.\"\"\"\n",
        "\n",
        "    plt.style.use(\"seaborn-v0_8\")\n",
        "    tamano = 1\n",
        "    for s in imagen.shape:\n",
        "        tamano *= s\n",
        "\n",
        "    img_vec = np.reshape(imagen, tamano)\n",
        "\n",
        "    fig = plt.figure(figsize=(12, 6))\n",
        "    ax = fig.add_subplot(111)\n",
        "    hist = plt.hist(img_vec, 50)\n",
        "\n",
        "    plt.xlabel(\"Valores de pixeles\", fontsize=15)\n",
        "    plt.ylabel(\"Frecuencia\", fontsize=10)"
      ]
    },
    {
      "cell_type": "code",
      "execution_count": null,
      "metadata": {
        "id": "okVebhpEJagG"
      },
      "outputs": [],
      "source": [
        "# Ya que la definiste, ahora la puedes utilizar!\n",
        "histograma_imagen(img) #le pasamos como entrada nuestra imagen, img"
      ]
    },
    {
      "cell_type": "markdown",
      "source": [
        "**¡Felicidades! 🎉**\n",
        "\n",
        "Ahora eres una persona experta en manipular imágenes a un nivel básico."
      ],
      "metadata": {
        "id": "5-bGpXPUpkh7"
      }
    },
    {
      "cell_type": "markdown",
      "source": [
        "---\n",
        "> Contenido curado por **Rodolfo Ferro**. Contacto: [ferro@cimat.mx](ferro@cimat.mx) <br>\n",
        "[**Clubes de Ciencia México**](https://clubesdeciencia.mx/), 2025."
      ],
      "metadata": {
        "id": "kmzxOcxLKJ1f"
      }
    }
  ],
  "metadata": {
    "kernelspec": {
      "display_name": "Python 3",
      "language": "python",
      "name": "python3"
    },
    "language_info": {
      "codemirror_mode": {
        "name": "ipython",
        "version": 3
      },
      "file_extension": ".py",
      "mimetype": "text/x-python",
      "name": "python",
      "nbconvert_exporter": "python",
      "pygments_lexer": "ipython3",
      "version": "3.4.2"
    },
    "colab": {
      "provenance": [],
      "include_colab_link": true
    }
  },
  "nbformat": 4,
  "nbformat_minor": 0
}