{
  "nbformat": 4,
  "nbformat_minor": 0,
  "metadata": {
    "colab": {
      "provenance": [],
      "include_colab_link": true
    },
    "kernelspec": {
      "name": "python3",
      "display_name": "Python 3"
    },
    "accelerator": "GPU",
    "gpuClass": "standard"
  },
  "cells": [
    {
      "cell_type": "markdown",
      "metadata": {
        "id": "view-in-github",
        "colab_type": "text"
      },
      "source": [
        "<a href=\"https://colab.research.google.com/github/RodolfoFerro/satelitesyneuronas/blob/main/notebooks/Redes_neuronales_artificiales.ipynb\" target=\"_parent\"><img src=\"https://colab.research.google.com/assets/colab-badge.svg\" alt=\"Open In Colab\"/></a>"
      ]
    },
    {
      "cell_type": "markdown",
      "metadata": {
        "id": "R6jO_1gISKxk"
      },
      "source": [
        "# Redes neuronales artificiales"
      ]
    },
    {
      "cell_type": "markdown",
      "source": [
        "### **Exploración de TensorFlow Playground**\n",
        "\n",
        "Comenzaremos explorando el website: https://playground.tensorflow.org/"
      ],
      "metadata": {
        "id": "FERBFtJCylBX"
      }
    },
    {
      "cell_type": "code",
      "source": [
        "from IPython.display import IFrame\n",
        "\n",
        "IFrame(src=\"https://playground.tensorflow.org/\", width=\"100%\", height=\"600px\")"
      ],
      "metadata": {
        "id": "8IsQUGn7yxGk"
      },
      "execution_count": null,
      "outputs": []
    },
    {
      "cell_type": "markdown",
      "source": [
        "### **Introducción a TensorFlow**\n",
        "\n",
        "[TensorFlow](https://www.tensorflow.org/) es un framework open-source para Machine Learning desarrollada por Google. Utilizada para construir y entrenar redes neuronales artificiales gracias a su API de alto nivel, [Keras](https://keras.io/).\n",
        "\n",
        "Comenzaremos creando una muestras, buscando resolver el [problema de separabilidad lineal para la compuerta lógica XOR](https://powerhousedm.blogspot.com/2007/10/el-problema-xor.html)."
      ],
      "metadata": {
        "id": "mBr1hUu4nXfi"
      }
    },
    {
      "cell_type": "code",
      "source": [
        "import numpy as np\n",
        "\n",
        "np.random.seed(123)\n",
        "x = np.array([]) # TODO: Add samples for XOR\n",
        "y = np.array([]) # TODO: Add samples for XOR"
      ],
      "metadata": {
        "id": "GbI7sI3GRLvO"
      },
      "execution_count": null,
      "outputs": []
    },
    {
      "cell_type": "markdown",
      "source": [
        "Utilizaremos Keras, la API de alto nivel subyaciente de TensorFlow, siendo la forma más común de utilizarlo.\n",
        "\n",
        "Keras está compuesto de módulos, cada uno con diferentes objetos para diferentes necesidades:\n",
        "- `models`\n",
        "- `layers`\n",
        "- `losses`\n",
        "- `optimizers`\n",
        "\n",
        "Estos módulos nos permiten construir, entrenar y evaluar redes neuronales de forma sencilla y modular. Por ejemplo, con `models` podemos definir arquitecturas secuenciales o funcionales; con `layers` agregamos capas como densas o convolucionales; `losses` define funciones de error como `mean_squared_error`, y `optimizers` permite elegir algoritmos de entrenamiento como Adam o SGD.\n",
        "\n",
        "A continuación, exploraremos cómo usarlos en conjunto para construir un modelo básico en TensorFlow."
      ],
      "metadata": {
        "id": "jdnOEMMezrB5"
      }
    },
    {
      "cell_type": "code",
      "source": [
        "import tensorflow as tf\n",
        "\n",
        "\n",
        "model = tf.keras.models.Sequential([\n",
        "    None, # Add Input of shape (2, )\n",
        "    None, # Add Dense of size 2, activation=???\n",
        "    None # Add Dense of size 1, activation=sigmoid\n",
        "])"
      ],
      "metadata": {
        "id": "7UId24PBOUdL"
      },
      "execution_count": null,
      "outputs": []
    },
    {
      "cell_type": "markdown",
      "source": [
        "El modelo más sencillo para crear con Keras es `Sequential`. Este tipo de modelo permite apilar capas de forma lineal, donde la salida de una capa es la entrada de la siguiente. En el ejemplo, se define un modelo con una capa de entrada de dos dimensiones, seguida de una capa oculta densa con activación `tanh`, y una capa de salida con activación `sigmoid`, adecuada para tareas de clasificación binaria. Además, se fija una semilla aleatoria para asegurar la reproducibilidad del modelo.\n",
        "\n",
        "Más referencias:\n",
        "- Capas de redes en [Keras](https://keras.io/api/layers/) y [TensorFlow](https://www.tensorflow.org/api_docs/python/tf/keras/layers).\n",
        "- Funciones de activación de [Keras](https://keras.io/api/layers/activations/) y [TensorFlow](https://www.tensorflow.org/api_docs/python/tf/keras/activations).\n",
        "\n",
        "Este modelo, aún no entrenado, por sí solo ya puede generar una salida, dada una entrada de datos con la estructura correcta."
      ],
      "metadata": {
        "id": "pKWLY14X0otR"
      }
    },
    {
      "cell_type": "code",
      "source": [
        "one_one = np.array([[1, 1]])\n",
        "model.predict(one_one)"
      ],
      "metadata": {
        "id": "YDrqviMejqWL"
      },
      "execution_count": null,
      "outputs": []
    },
    {
      "cell_type": "markdown",
      "source": [
        "### **Optimizador y función de pérdida**\n",
        "\n",
        "Keras y TensorFlow cuentan con diferentes funciones de pérdida ya implementadas, por ejemplo la función `log-loss` que vimos previamente o la función de MSE (el error cuadrático medio).\n",
        "\n",
        "Más referencias:\n",
        "- Funciones de pérdida en [Keras](https://keras.io/api/losses/) y [TensorFlow](https://www.tensorflow.org/api_docs/python/tf/keras/losses).\n",
        "- Optimizadores en Keras [Keras](https://keras.io/api/optimizers/) y [TensorFlow](https://www.tensorflow.org/api_docs/python/tf/keras/optimizers)."
      ],
      "metadata": {
        "id": "5Zp5bho-pHGo"
      }
    },
    {
      "cell_type": "code",
      "source": [
        "log_loss = tf.keras.losses.BinaryCrossentropy(from_logits=True)"
      ],
      "metadata": {
        "id": "z23TPHKIuVha"
      },
      "execution_count": null,
      "outputs": []
    },
    {
      "cell_type": "markdown",
      "source": [
        "$$\\text{log loss}=L_{\\log}(y, p) = -(y \\log(p) + (1 - y) \\log(1 - p)) $$"
      ],
      "metadata": {
        "id": "ia9fA9yfuZ0V"
      }
    },
    {
      "cell_type": "code",
      "source": [
        "log_loss([1], [0])"
      ],
      "metadata": {
        "id": "JWemePLeuY38"
      },
      "execution_count": null,
      "outputs": []
    },
    {
      "cell_type": "code",
      "source": [
        "loss = tf.keras.losses.MeanSquaredError()"
      ],
      "metadata": {
        "id": "mFFUMXpxZo0x"
      },
      "execution_count": null,
      "outputs": []
    },
    {
      "cell_type": "markdown",
      "source": [
        "$$ \\mathrm{MSE}=\\frac{1}{N}\\cdot\\sum_{i=1}^N \\left(y_i- \\hat{y}_i \\right )^2 $$"
      ],
      "metadata": {
        "id": "BP04BMThkScl"
      }
    },
    {
      "cell_type": "code",
      "source": [
        "loss([0.5], [0.5])"
      ],
      "metadata": {
        "id": "0A56ubLybjZL"
      },
      "execution_count": null,
      "outputs": []
    },
    {
      "cell_type": "markdown",
      "source": [
        "Podemos crear asimismo un optimizador, es decir, el método con el que buscaremos minimizar el error.\n",
        "\n",
        "De nuestra sesión anterior, hablamos sobre el descenso de gradiente, por lo que utilizar el SDG será una buena opción para nuetsro problema."
      ],
      "metadata": {
        "id": "Wh1XrmRio5Dz"
      }
    },
    {
      "cell_type": "code",
      "source": [
        "optimizer = tf.keras.optimizers.SGD(learning_rate=0.6)\n",
        "\n",
        "model.compile(optimizer=optimizer, loss='mse', metrics=[loss])"
      ],
      "metadata": {
        "id": "MFK38I_GbOyN"
      },
      "execution_count": null,
      "outputs": []
    },
    {
      "cell_type": "markdown",
      "source": [
        "Podemos utilizar el método `.summary()` para ver una tabla con un resumen del modelo:"
      ],
      "metadata": {
        "id": "ypdMC_CSpJLJ"
      }
    },
    {
      "cell_type": "code",
      "source": [
        "model.summary()"
      ],
      "metadata": {
        "id": "wT5kqY2YcbVv"
      },
      "execution_count": null,
      "outputs": []
    },
    {
      "cell_type": "markdown",
      "source": [
        "Para entrenar el modelo, utilizamos la función `fit`, siendo consistentes con los modelos creados en `sklearn`."
      ],
      "metadata": {
        "id": "NHLfYJpB1Bjo"
      }
    },
    {
      "cell_type": "code",
      "source": [
        "history = model.fit(x, y, epochs=1_000)"
      ],
      "metadata": {
        "id": "fDQ4fPJxbtbO"
      },
      "execution_count": null,
      "outputs": []
    },
    {
      "cell_type": "markdown",
      "source": [
        "Una vez entrenado el modelo, podemos explorar la historia de entrenamiento, observando la disminución del error a lo largo de las épocas de entrenamiento."
      ],
      "metadata": {
        "id": "rOfk85p_03vO"
      }
    },
    {
      "cell_type": "code",
      "source": [
        "import plotly.express as px\n",
        "\n",
        "\n",
        "losses = history.history[\"loss\"]\n",
        "eje_x = np.arange(len(losses))\n",
        "\n",
        "fig = px.line(\n",
        "    x=eje_x,\n",
        "    y=losses,\n",
        "    title=\"Historia de entrenamiento\",\n",
        "    labels=dict(x=\"Épocas\", y=\"Error\")\n",
        ")\n",
        "fig.show()"
      ],
      "metadata": {
        "id": "cHBNrHSMXKhW"
      },
      "execution_count": null,
      "outputs": []
    },
    {
      "cell_type": "markdown",
      "source": [
        "Ahora, evaluaremos el modelo en una rejilla para verificar la función aprendida."
      ],
      "metadata": {
        "id": "mwombsIP1JRY"
      }
    },
    {
      "cell_type": "code",
      "source": [
        "# Construcción de una rejilla\n",
        "x = np.linspace(-0.2, 1.2, 201)\n",
        "y = np.linspace(-0.2, 1.2, 201)\n",
        "xy = np.meshgrid(x, y)\n",
        "zz = np.array(list(zip(*(x.flat for x in xy))))\n",
        "\n",
        "# Predicción en la rejilla de valores\n",
        "surface = model.predict(zz)\n",
        "surface = surface.flatten()"
      ],
      "metadata": {
        "id": "hvSrcyLDaTxc"
      },
      "execution_count": null,
      "outputs": []
    },
    {
      "cell_type": "code",
      "source": [
        "import plotly.graph_objects as go\n",
        "\n",
        "\n",
        "fig = go.Figure(data=[go.Scatter3d(\n",
        "    x=zz[:, 0],\n",
        "    y=zz[:, 1],\n",
        "    z=surface,\n",
        "    mode=\"markers\",\n",
        "    marker=dict(\n",
        "        size=1,\n",
        "        color=surface,\n",
        "        colorscale=\"Viridis\",\n",
        "        opacity=0.8\n",
        "    )\n",
        ")])\n",
        "\n",
        "# Tight layout\n",
        "fig.update_layout(margin=dict(l=0, r=0, b=0, t=0))\n",
        "fig.show()"
      ],
      "metadata": {
        "id": "Z98QLtC8cZH5"
      },
      "execution_count": null,
      "outputs": []
    },
    {
      "cell_type": "markdown",
      "metadata": {
        "id": "0IHtR4uPEaCO"
      },
      "source": [
        "<center>\n",
        "    *********\n",
        "</center>"
      ]
    },
    {
      "cell_type": "markdown",
      "metadata": {
        "id": "1Z7JrTygMDSx"
      },
      "source": [
        "### El dataset a utilizar: Fashion MNIST\n",
        "\n",
        "El dataset está compuesto por imágenes de 28x28 pixeles, que contienen un conjunto de prendas en 10 categorías.\n"
      ]
    },
    {
      "cell_type": "markdown",
      "metadata": {
        "id": "p65n1ePSMYm8"
      },
      "source": [
        "Los datos de Fashion MNIST están disponibles directamente en la API de conjuntos de datos de `tf.keras`. Los cargas así:"
      ]
    },
    {
      "cell_type": "code",
      "source": [
        "import tensorflow as tf\n",
        "print(tf.__version__)"
      ],
      "metadata": {
        "id": "L5jdR2KWfWC2"
      },
      "execution_count": null,
      "outputs": []
    },
    {
      "cell_type": "code",
      "metadata": {
        "id": "Wgked3UaMJW4"
      },
      "source": [
        "fashion_mnist = tf.keras.datasets.fashion_mnist"
      ],
      "execution_count": null,
      "outputs": []
    },
    {
      "cell_type": "markdown",
      "metadata": {
        "id": "UsEGBNwrMSac"
      },
      "source": [
        "Llamar a `load_data` en este objeto nos dará dos conjuntos con los valores de entrenamiento y prueba para los gráficos que contienen las prendas y sus etiquetas."
      ]
    },
    {
      "cell_type": "code",
      "metadata": {
        "id": "1XdP6qF1MLR6"
      },
      "source": [
        "(training_images, training_labels), (test_images, test_labels) = fashion_mnist.load_data()"
      ],
      "execution_count": null,
      "outputs": []
    },
    {
      "cell_type": "markdown",
      "metadata": {
        "id": "Y__BooJ9LTL9"
      },
      "source": [
        "### El dataset a utilizar: Trees in Satellite Imagery\n",
        "\n",
        "El dataset está compuesto por imágenes de 64x64 pixeles, que contienen un conjunto de 2 categorías.\n",
        "\n",
        "El dataset fue descargado de: https://www.kaggle.com/datasets/mcagriaksoy/trees-in-satellite-imagery\n"
      ]
    },
    {
      "cell_type": "code",
      "source": [
        "!wget https://github.com/RodolfoFerro/satelitesyneuronas/raw/refs/heads/main/assets/data/trees.zip"
      ],
      "metadata": {
        "id": "HZb9id7vLfFc"
      },
      "execution_count": null,
      "outputs": []
    },
    {
      "cell_type": "code",
      "source": [
        "!unzip trees\n",
        "!mv Trees\\ in\\ Satellite\\ Imagery trees_dataset"
      ],
      "metadata": {
        "id": "hs6zmmmpLwYL"
      },
      "execution_count": null,
      "outputs": []
    },
    {
      "cell_type": "code",
      "source": [
        "!ls"
      ],
      "metadata": {
        "id": "l9zz-p9BL5ev"
      },
      "execution_count": null,
      "outputs": []
    },
    {
      "cell_type": "code",
      "source": [
        "import os\n",
        "import cv2\n",
        "import numpy as np\n",
        "\n",
        "dataset_path = 'trees_dataset'\n",
        "classes = ['Trees', 'NoTrees']\n",
        "img_size = 64\n",
        "images = []\n",
        "labels = []\n",
        "\n",
        "for label, class_name in enumerate(classes):\n",
        "    class_path = os.path.join(dataset_path, class_name)\n",
        "    for img_name in os.listdir(class_path):\n",
        "        img_path = os.path.join(class_path, img_name)\n",
        "        img = cv2.imread(img_path)\n",
        "        img = cv2.resize(img, (img_size, img_size))\n",
        "        images.append(img)\n",
        "        labels.append(label)\n",
        "\n",
        "images = np.array(images)\n",
        "labels = np.array(labels)\n",
        "\n",
        "print(f\"Loaded {len(images)} images with shape {images.shape}\")\n",
        "print(f\"Loaded {len(labels)} labels with shape {labels.shape}\")"
      ],
      "metadata": {
        "id": "KqVlDFQHMK4v"
      },
      "execution_count": null,
      "outputs": []
    },
    {
      "cell_type": "code",
      "source": [
        "from sklearn.model_selection import train_test_split\n",
        "\n",
        "training_images, testing_images, training_labels, testing_labels = train_test_split(images, labels, test_size=0.2, random_state=42)\n",
        "\n",
        "print(f\"Training images shape: {training_images.shape}\")\n",
        "print(f\"Testing images shape: {testing_images.shape}\")\n",
        "print(f\"Training labels shape: {training_labels.shape}\")\n",
        "print(f\"Testing labels shape: {testing_labels.shape}\")"
      ],
      "metadata": {
        "id": "m0mcTmdVM3Pl"
      },
      "execution_count": null,
      "outputs": []
    },
    {
      "cell_type": "markdown",
      "metadata": {
        "id": "6c0eSrlvMs6H"
      },
      "source": [
        "¿Cómo se ven estos valores?\n",
        "\n",
        "Imprimamos una imagen de entrenamiento y una etiqueta de entrenamiento para ver."
      ]
    },
    {
      "cell_type": "code",
      "metadata": {
        "id": "3CdTltfNM0qF"
      },
      "source": [
        "import numpy as np\n",
        "import matplotlib.pyplot as plt\n",
        "np.set_printoptions(linewidth=200)\n",
        "\n",
        "\n",
        "# Set index of image to be seen\n",
        "img_index = 0\n",
        "\n",
        "# Plot image\n",
        "plt.imshow(training_images[img_index], cmap='gray')\n",
        "plt.axis(False)\n",
        "\n",
        "print('Label:', training_labels[img_index])\n",
        "print('Matrix:', training_images[img_index])"
      ],
      "execution_count": null,
      "outputs": []
    },
    {
      "cell_type": "markdown",
      "metadata": {
        "id": "IyLnhk1VeNc5"
      },
      "source": [
        "### Preparación de los datos\n",
        "\n",
        "Notarás que todos los valores están entre 0 y 255. Si estamos entrenando una red neuronal, por varias razones es más fácil si transformamos los valores para tratar todos con valores entre 0 y 1. Este proceso se llama **normalización**."
      ]
    },
    {
      "cell_type": "code",
      "metadata": {
        "id": "vWoPQWCGNdnB"
      },
      "source": [
        "training_images  = training_images / 255.0\n",
        "test_images = test_images / 255.0"
      ],
      "execution_count": null,
      "outputs": []
    },
    {
      "cell_type": "code",
      "metadata": {
        "id": "32Dx5PzgJ3gK"
      },
      "source": [
        "import numpy as np\n",
        "import matplotlib.pyplot as plt\n",
        "np.set_printoptions(linewidth=200)\n",
        "\n",
        "\n",
        "# Set index of image to be seen\n",
        "img_index = 0\n",
        "\n",
        "# Plot image\n",
        "plt.imshow(training_images[img_index], cmap='gray')\n",
        "plt.axis(False)\n",
        "\n",
        "print('Label:', training_labels[img_index])\n",
        "print('Matrix:', training_images[img_index])"
      ],
      "execution_count": null,
      "outputs": []
    },
    {
      "cell_type": "code",
      "metadata": {
        "id": "6QLVhw7SOCd8"
      },
      "source": [
        "training_images[0].shape"
      ],
      "execution_count": null,
      "outputs": []
    },
    {
      "cell_type": "markdown",
      "metadata": {
        "id": "bTaT1RjyNjqV"
      },
      "source": [
        "### Creación del modelo\n",
        "\n"
      ]
    },
    {
      "cell_type": "code",
      "metadata": {
        "id": "g-myY9JWNvtY"
      },
      "source": [
        "mlp_model = tf.keras.models.Sequential([\n",
        "    tf.keras.layers.Flatten(),\n",
        "    # TODO. Dense -> 256, ReLU\n",
        "    # TODO. Dense -> 2, Sigmoid\n",
        "])"
      ],
      "execution_count": null,
      "outputs": []
    },
    {
      "cell_type": "markdown",
      "source": [
        "### Entrenamiento del modelo\n",
        "\n",
        "Para entrenar el modelo, simplemente utilizamos el método `.fit()` del modelo."
      ],
      "metadata": {
        "id": "B4DmYPVAUJ2d"
      }
    },
    {
      "cell_type": "code",
      "metadata": {
        "id": "F9LHH0f6N5Hi"
      },
      "source": [
        "mlp_model.compile(\n",
        "    optimizer=tf.optimizers.SGD(),\n",
        "    loss=\"binary_crossentropy\",\n",
        "    metrics=[\"accuracy\"]\n",
        ")"
      ],
      "execution_count": null,
      "outputs": []
    },
    {
      "cell_type": "code",
      "metadata": {
        "id": "ybq9AzJiN8ZV"
      },
      "source": [
        "history = mlp_model.fit(training_images, training_labels, epochs=3)"
      ],
      "execution_count": null,
      "outputs": []
    },
    {
      "cell_type": "markdown",
      "source": [
        "\n",
        "> **Pregunta clave:** ¿Qué sucede con la historia de entrenamiento?"
      ],
      "metadata": {
        "id": "KMX5Gjzu92e1"
      }
    },
    {
      "cell_type": "code",
      "source": [
        "import plotly.express as px\n",
        "\n",
        "\n",
        "seen = \"accuracy\" # or 'loss'\n",
        "\n",
        "hist_values = history.history[seen]\n",
        "eje_x = np.arange(len(hist_values))\n",
        "\n",
        "fig = px.line(\n",
        "    x=eje_x,\n",
        "    y=hist_values,\n",
        "    title=\"Historia de entrenamiento\",\n",
        "    labels=dict(x=\"Épocas\", y=seen.capitalize())\n",
        ")\n",
        "fig.show()"
      ],
      "metadata": {
        "id": "qlQoHT6tge9P"
      },
      "execution_count": null,
      "outputs": []
    },
    {
      "cell_type": "markdown",
      "metadata": {
        "id": "cH9mfZMTN8_H"
      },
      "source": [
        "### Evaluación del modelo"
      ]
    },
    {
      "cell_type": "code",
      "metadata": {
        "id": "rHCV5BrAN-pq"
      },
      "source": [
        "mlp_model.evaluate(test_images, test_labels)"
      ],
      "execution_count": null,
      "outputs": []
    },
    {
      "cell_type": "markdown",
      "metadata": {
        "id": "w-hQX4NNOd_D"
      },
      "source": [
        "### Predicción\n"
      ]
    },
    {
      "cell_type": "code",
      "metadata": {
        "id": "GaDFuXyROfZY"
      },
      "source": [
        "import random\n",
        "\n",
        "test_index = random.randint(0, 2080 - 1)\n",
        "\n",
        "plt.imshow(test_images[test_index])\n",
        "plt.axis(False)\n",
        "\n",
        "print(\"Etiqueta:\", test_labels[test_index])\n",
        "input_image = np.reshape(test_images[test_index], (1, 4096))\n",
        "prediction = mlp_model.predict(np.expand_dims(input_image, axis=-1))\n",
        "print(\"Predicción:\", np.argmax(prediction))"
      ],
      "execution_count": null,
      "outputs": []
    },
    {
      "cell_type": "code",
      "metadata": {
        "id": "RHA0nk24QEVz"
      },
      "source": [
        "prediction"
      ],
      "execution_count": null,
      "outputs": []
    },
    {
      "cell_type": "markdown",
      "source": [
        "> **Para resolver la tarea, el reto es:** Mejor accuracy obtenido en la clase.\n",
        "\n",
        "**Puedes explorar:**\n",
        "- El número de capas.\n",
        "- Las épocas de entrenamiento.\n",
        "- Las funciones de activación.\n",
        "- Investigar otras capas."
      ],
      "metadata": {
        "id": "QKp_PZ_NDqbS"
      }
    },
    {
      "cell_type": "markdown",
      "source": [
        "---\n",
        "> Contenido creado por **Rodolfo Ferro**. Contacto: [ferro@cimat.mx](ferro@cimat.mx) <br>\n",
        "[**Clubes de Ciencia México**](https://clubesdeciencia.mx/), 2025."
      ],
      "metadata": {
        "id": "hSdbQU3e6-Ky"
      }
    }
  ]
}