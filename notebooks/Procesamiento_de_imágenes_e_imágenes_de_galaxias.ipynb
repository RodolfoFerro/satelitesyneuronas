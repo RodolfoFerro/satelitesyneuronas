{
  "cells": [
    {
      "cell_type": "markdown",
      "metadata": {
        "id": "view-in-github",
        "colab_type": "text"
      },
      "source": [
        "<a href=\"https://colab.research.google.com/github/RodolfoFerro/satelitesyneuronas/blob/main/notebooks/Procesamiento_de_im%C3%A1genes_e_im%C3%A1genes_de_galaxias.ipynb\" target=\"_parent\"><img src=\"https://colab.research.google.com/assets/colab-badge.svg\" alt=\"Open In Colab\"/></a>"
      ]
    },
    {
      "cell_type": "markdown",
      "source": [
        "# Procesamiento de imágenes e imágenes de galaxias\n",
        "\n",
        "**¡Te doy la más cordial bienvenida! 👋**\n",
        "\n",
        "En ese cuaderno, a una imagen con 2 dimensiones de color, le agregamos una tercera dimensión con pixeles negros. Ahora, a una imagen con 3 dimensiones de color _–RGB–_ le vamos a agregar 2 dimensiones extra con pixeles rojo y azul. ¡Esto nos va a dar información de dónde hay luz UV e IR a partir de información captada por un satélite!\n",
        "\n",
        "**Spoiler:** Para ello, usaremos una imagen de una galaxia a lo largo de este ejercicio."
      ],
      "metadata": {
        "id": "5iZgIv7cy8dd"
      }
    },
    {
      "cell_type": "markdown",
      "metadata": {
        "id": "5EsVBNQ8q3_G"
      },
      "source": [
        "## Importar módulos"
      ]
    },
    {
      "cell_type": "code",
      "execution_count": null,
      "metadata": {
        "id": "nV5rx5uRx51W"
      },
      "outputs": [],
      "source": [
        "from astropy.io import fits\n",
        "import matplotlib.pyplot as plt\n",
        "import matplotlib.image as mpimg\n",
        "import imageio.v2 as imageio\n",
        "import numpy as np\n",
        "import pylab\n",
        "import os"
      ]
    },
    {
      "cell_type": "markdown",
      "metadata": {
        "id": "XlTkJrN0x51X"
      },
      "source": [
        "## Definir funciones\n",
        "\n",
        "Esta función genera una película en formato .gif a partir de una serie de imágenes en formato .png."
      ]
    },
    {
      "cell_type": "code",
      "execution_count": null,
      "metadata": {
        "collapsed": true,
        "id": "KkoouP-mx51X"
      },
      "outputs": [],
      "source": [
        "def makemovie(n, movie_name='movie.gif'):\n",
        "    \"\"\"Genera una animación GIF.\"\"\"\n",
        "\n",
        "    images = []\n",
        "    filenames = []\n",
        "\n",
        "    for i in range(n):\n",
        "        filenames.append(\"frame\" + str(i) + \".png\")\n",
        "\n",
        "    for filename in filenames:\n",
        "        images.append(imageio.imread(filename))\n",
        "\n",
        "    imageio.mimsave(movie_name, images)"
      ]
    },
    {
      "cell_type": "markdown",
      "metadata": {
        "id": "Ejy0u3Wnx51X"
      },
      "source": [
        "Esta función mapea los pixeles de una imagen al intervalo [0,1] usando una transformación lineal.  "
      ]
    },
    {
      "cell_type": "code",
      "execution_count": null,
      "metadata": {
        "collapsed": true,
        "id": "3wlzQkRjx51X"
      },
      "outputs": [],
      "source": [
        "def linear_map(x):\n",
        "    \"\"\"Mapea data linealmente al intervalo [0,1].\"\"\"\n",
        "\n",
        "    m = np.min(x)\n",
        "    M = np.max(x)\n",
        "\n",
        "    return (x - m) / (M - m)"
      ]
    },
    {
      "cell_type": "markdown",
      "metadata": {
        "id": "5bHZU2s3x51Y"
      },
      "source": [
        "Esta funcion te permite visualizar imagenes de manera mas \"bonita\"."
      ]
    },
    {
      "cell_type": "code",
      "execution_count": null,
      "metadata": {
        "collapsed": true,
        "id": "EJdzmeLlx51Y"
      },
      "outputs": [],
      "source": [
        "def visualizar_imagen(imagen):\n",
        "    \"\"\"Función para visualizar una imagen.\"\"\"\n",
        "\n",
        "    fig = plt.figure(figsize=(7, 7))\n",
        "    ax = fig.add_subplot(111)\n",
        "    ax.imshow(imagen, interpolation=\"gaussian\")\n",
        "    ax.get_xaxis().set_visible(False)\n",
        "    ax.get_yaxis().set_visible(False)"
      ]
    },
    {
      "cell_type": "markdown",
      "metadata": {
        "id": "dEMRX5mJx51Y"
      },
      "source": [
        "Esta función te permite obtener el \"histograma\" de los valores de los pixeles de una imagen."
      ]
    },
    {
      "cell_type": "code",
      "execution_count": null,
      "metadata": {
        "collapsed": true,
        "id": "y1ZdniUpx51Y"
      },
      "outputs": [],
      "source": [
        "def histograma_imagen(imagen):\n",
        "    \"\"\"Función para obtener el histograma de una imagen.\"\"\"\n",
        "\n",
        "    plt.style.use(\"seaborn-v0_8\")\n",
        "    tamano = 1\n",
        "    for s in imagen.shape:\n",
        "        tamano *= s\n",
        "\n",
        "    img_vec = np.reshape(imagen, tamano)\n",
        "\n",
        "    fig = plt.figure(figsize=(12, 6))\n",
        "    ax = fig.add_subplot(111)\n",
        "    hist = plt.hist(img_vec, 50)\n",
        "\n",
        "    plt.xlabel(\"Valores de pixeles\", fontsize=15)\n",
        "    plt.ylabel(\"Frecuencia\", fontsize=10)"
      ]
    },
    {
      "cell_type": "markdown",
      "metadata": {
        "id": "GvH08Mdsx51Y"
      },
      "source": [
        "## Lectura de datos de galaxias\n",
        "\n",
        "Lee los archivos con datos en los 5 canales (RGB y Ultraviolete e Infrarojo) de la siguiente manera."
      ]
    },
    {
      "cell_type": "markdown",
      "metadata": {
        "id": "vtbAFP8Hx51Y"
      },
      "source": [
        "Estos datos fueron descargados de este sitio:\n",
        "http://skyview.gsfc.nasa.gov/current/cgi/query.pl\n",
        "\n",
        "Es importante que descargues y subas a este cuaderno la data correspondiente a una galaxia. Puedes encontrar la data en este link: https://github.com/RodolfoFerro/satelitesyneuronas/tree/main/assets/data\n",
        "\n",
        "**O también, buscamos a la galaxia M51, y tomamos los datos SDSSdr7 `[g,i,r,u,z]`.**"
      ]
    },
    {
      "cell_type": "code",
      "execution_count": null,
      "metadata": {
        "id": "_VYOZjZvx51Y"
      },
      "outputs": [],
      "source": [
        "# Los archivos que corresponden a R, G y B se llaman 'i', 'r' y 'g'.\n",
        "R_fits = fits.open('i.fits')\n",
        "G_fits = fits.open('r.fits')\n",
        "B_fits = fits.open('g.fits')\n",
        "\n",
        "\n",
        "# Los archivos .fits con datos UV e IR se llaman u.fits y z.fits.\n",
        "# Haz el equivalente con ellos que lo que hicimos con los tres\n",
        "# archivos de arriba. Asignalos a UV_fits y IR_fits.\n",
        "########\n",
        "\n",
        "\n",
        "########"
      ]
    },
    {
      "cell_type": "code",
      "source": [
        "# Código de utilería para cargar la data automáticamente.\n",
        "!wget https://github.com/RodolfoFerro/satelitesyneuronas/raw/main/assets/data/g.fits\n",
        "!wget https://github.com/RodolfoFerro/satelitesyneuronas/raw/main/assets/data/i.fits\n",
        "!wget https://github.com/RodolfoFerro/satelitesyneuronas/raw/main/assets/data/r.fits\n",
        "!wget https://github.com/RodolfoFerro/satelitesyneuronas/raw/main/assets/data/u.fits\n",
        "!wget https://github.com/RodolfoFerro/satelitesyneuronas/raw/main/assets/data/z.fits"
      ],
      "metadata": {
        "id": "jDa9dZzN5U11"
      },
      "execution_count": null,
      "outputs": []
    },
    {
      "cell_type": "markdown",
      "metadata": {
        "id": "s20tdJBGx51Y"
      },
      "source": [
        "Los astrónomos trabajan con una archivos que se llaman formato \"FITS\". Adentro de estos están los datos crudos de las imágenes. En las siguientes lineas, tomamos las imágenes R, G, B, UV y IR"
      ]
    },
    {
      "cell_type": "code",
      "execution_count": null,
      "metadata": {
        "id": "IehVbDjQx51Y"
      },
      "outputs": [],
      "source": [
        "img_R = R_fits['PRIMARY'].data\n",
        "img_G = G_fits['PRIMARY'].data\n",
        "img_B = B_fits['PRIMARY'].data\n",
        "\n",
        "# Ahora tú abre las imagenes img_UV y imv_IR.\n",
        "########\n",
        "\n",
        "\n",
        "########"
      ]
    },
    {
      "cell_type": "markdown",
      "metadata": {
        "id": "AlCezs5Kx51Y"
      },
      "source": [
        "# El RGB de la galaxia"
      ]
    },
    {
      "cell_type": "markdown",
      "source": [
        "## Combinemos R, G y B en una sola imagen\n",
        "\n",
        "Primero, averiguamos el ancho y alto de la imagen."
      ],
      "metadata": {
        "id": "1Khd4gws20qZ"
      }
    },
    {
      "cell_type": "code",
      "execution_count": null,
      "metadata": {
        "id": "-Cb5tWI_x51Z"
      },
      "outputs": [],
      "source": [
        "ancho_imagen = img_R.shape[0]\n",
        "altura_imagen = img_R.shape[1]\n",
        "\n",
        "print(\"Ancho:\", ancho_imagen, \"px\")\n",
        "print(\"Alto:\", altura_imagen, \"px\")"
      ]
    },
    {
      "cell_type": "code",
      "execution_count": null,
      "metadata": {
        "id": "pnj7WFoBx51Z"
      },
      "outputs": [],
      "source": [
        "# Ahora, generamos una matriz de 3 dimensiones llena de puros ceros.\n",
        "img_RGB = np.zeros((ancho_imagen, altura_imagen, 3))\n",
        "\n",
        "# Ahora, ponemos img_R (el rojo) la posición en img[:, :, 0]\n",
        "# y luego img_G (el verde) en img[:, :, 1].\n",
        "img_RGB[:, :, 0] = img_R\n",
        "img_RGB[:, :, 1] = img_G\n",
        "\n",
        "# Ahora, tú pon img_B (el azul) la posición en img_RGB[:, :, 2].\n",
        "########\n",
        "\n",
        "########"
      ]
    },
    {
      "cell_type": "markdown",
      "metadata": {
        "id": "zUg_ICGMx51Z"
      },
      "source": [
        "## ¿Cómo se ve la imagen de la galaxia ahorita?"
      ]
    },
    {
      "cell_type": "code",
      "execution_count": null,
      "metadata": {
        "id": "7kdLe5vXx51Z"
      },
      "outputs": [],
      "source": [
        "# Usa la funcion visualizar_imagen para visualizar a img_RGB.\n",
        "################\n",
        "\n",
        "################"
      ]
    },
    {
      "cell_type": "markdown",
      "metadata": {
        "collapsed": false,
        "id": "j32FGHIux51Z"
      },
      "source": [
        "¿Por qué se ve tan rara? Vamos a ver qué valores tienen los pixeles:"
      ]
    },
    {
      "cell_type": "code",
      "execution_count": null,
      "metadata": {
        "id": "DbouDUxHx51Z"
      },
      "outputs": [],
      "source": [
        "# Usa la función histograma_imagen para ver el\n",
        "# histograma de valores de pixeles.\n",
        "##############\n",
        "\n",
        "###############"
      ]
    },
    {
      "cell_type": "markdown",
      "metadata": {
        "id": "iTWG51zWx51Z"
      },
      "source": [
        "Notemos que que los pixeles no van del 0 al 1, sino que tienen valores mucho más grandes (1000, 2000, etc.)\n",
        "\n",
        "Una forma común en Astronomía (y muchas otras áreas de la ciencia) de transformar los valores para que vayan del 0 al 1 es la siguiente: sacar el logaritmo base 10 y luego hacer un \"mapeo lineal\" de 0 a 1."
      ]
    },
    {
      "cell_type": "code",
      "execution_count": null,
      "metadata": {
        "collapsed": true,
        "id": "vo1eNergx51Z"
      },
      "outputs": [],
      "source": [
        "# 1. Obtenemos el logaritmo base 10 de los pixeles:\n",
        "img_RGB_log10 = np.log10(img_RGB)\n",
        "\n",
        "# 2. Llamamos a la función \"linear map\":\n",
        "img_RGB_01 = linear_map(img_RGB_log10)"
      ]
    },
    {
      "cell_type": "markdown",
      "metadata": {
        "id": "nMNtNoHIx51Z"
      },
      "source": [
        "Verificamos los nuevos valores viendo el nuevo histograma:"
      ]
    },
    {
      "cell_type": "code",
      "execution_count": null,
      "metadata": {
        "id": "VwgY8_Hvx51Z"
      },
      "outputs": [],
      "source": [
        "# Grafica el histograma de la nueva imagen, normalizada.\n",
        "################\n",
        "\n",
        "################"
      ]
    },
    {
      "cell_type": "markdown",
      "metadata": {
        "id": "3eXBbj4sx51Z"
      },
      "source": [
        "**¡Ahora sí van del 0 al 1 los valores de los pixeles!**"
      ]
    },
    {
      "cell_type": "markdown",
      "metadata": {
        "id": "_y92yeLnx51Z"
      },
      "source": [
        "## ¿Cómo se ve la imagen nueva?"
      ]
    },
    {
      "cell_type": "code",
      "execution_count": null,
      "metadata": {
        "id": "YDk9kn2Hx51Z"
      },
      "outputs": [],
      "source": [
        "# Visualiza la nueva imagen.\n",
        "##################\n",
        "\n",
        "##################"
      ]
    },
    {
      "cell_type": "markdown",
      "metadata": {
        "id": "Hq1bdVAZx51Z"
      },
      "source": [
        "La imagen arriba tiene 3 canales - RGB...\n",
        "\n",
        "¡Pero lo emocionante es que tenemos información sobre 2 \"dimensiones de color\" adicionales - el ultravioleta (UV) y el infrarojo (IR) (los datos almacenados en las variables `img_UV` e `img_IR`)!\n",
        "\n",
        "Entonces, de manera similar a como le hicimos con el ejercicio para daltonismo, queremos usar *oscilaciones en el tiempo* de pixeles para codificar las 2 dimensiones extras de color."
      ]
    },
    {
      "cell_type": "markdown",
      "metadata": {
        "id": "P1QxabJrx51Z"
      },
      "source": [
        "## Transformación de la imagen\n",
        "\n",
        "Primero, vamos a transformar de la misma forma que hicimos arriba, los datos de UV e IR a un rango que vaya del 0 al 1."
      ]
    },
    {
      "cell_type": "code",
      "execution_count": null,
      "metadata": {
        "id": "7h8bwaHwx51Z"
      },
      "outputs": [],
      "source": [
        "# Transforma los datos Ultravioleta (img_UV) e Infrarojo (img_IR)\n",
        "# al rango [0,1]. Primero saca  el logaritmo base 10 de la señal,\n",
        "# y luego aplica el mapa lineal (lineal_map).\n",
        "# Asigna las nuevas imagenes a las variables \"img_UV_01\" y \"img_IR_01\".\n",
        "\n",
        "#################\n",
        "\n",
        "\n",
        "#################"
      ]
    },
    {
      "cell_type": "markdown",
      "metadata": {
        "id": "nPQIygoBx51Z"
      },
      "source": [
        "Veamos el histograma de valores de estos dos canales. Esto nos va a ayudar a decidir qué umbral de intensidad utilizar para seleccionar los pixeles que oscilen en el tiempo."
      ]
    },
    {
      "cell_type": "code",
      "execution_count": null,
      "metadata": {
        "id": "bmUILvTlx51Z"
      },
      "outputs": [],
      "source": [
        "# Muestra el histograma de valores de pixeles del\n",
        "# canal UV (transformado al rango 0-1).\n",
        "#############\n",
        "\n",
        "#############"
      ]
    },
    {
      "cell_type": "code",
      "execution_count": null,
      "metadata": {
        "id": "eQR44KBnx51a"
      },
      "outputs": [],
      "source": [
        "# Muestra el histograma de valores de pixeles del\n",
        "# canal IR (transformado al rango 0-1)\n",
        "#######\n",
        "\n",
        "#######"
      ]
    },
    {
      "cell_type": "markdown",
      "metadata": {
        "id": "A1bTnNoQx51a"
      },
      "source": [
        "**Pregunta:** Con base en los histogramas de UV e IR, ¿qué valores escogerías para los umbrales de cada uno de estos dos canales?\n",
        "\n",
        "Recuerda que todos los pixeles que tengan un valor por arriba del umbral van a oscilar en el tiempo, mostrando donde hay regiones con alta señal en el canal UV o IR, respectivamente."
      ]
    },
    {
      "cell_type": "code",
      "execution_count": null,
      "metadata": {
        "collapsed": true,
        "id": "tgE6sBo6x51d"
      },
      "outputs": [],
      "source": [
        "# Escoge el valor para el umbral del canal UV.\n",
        "# Puedes cambiarlo en base a lo que observes\n",
        "# en el histograma.\n",
        "umbral_UV = 0.1\n",
        "\n",
        "# Escoge el valor para el umbral del canal IR.\n",
        "umbral_IR = 0.1"
      ]
    },
    {
      "cell_type": "markdown",
      "metadata": {
        "id": "MLgECcFZx51d"
      },
      "source": [
        "## Primera prueba\n",
        "\n",
        "Hagamos una primera prueba con pixeles en el canal UV que estén por arriba del `umbral_UV`.\n",
        "\n",
        "**Condición –** Si un pixel en el canal UV está por arriba del `umbral_UV`, y un número aleatorio entre 0 y 1 es menor a 0.2, pinta ese pixel de color azul."
      ]
    },
    {
      "cell_type": "code",
      "execution_count": null,
      "metadata": {
        "collapsed": true,
        "id": "s_w0E9Htx51d"
      },
      "outputs": [],
      "source": [
        "# Haz una copia de img_RGB_01, llámala img_prueba_UV.\n",
        "#############\n",
        "\n",
        "\n",
        "#############"
      ]
    },
    {
      "cell_type": "code",
      "execution_count": null,
      "metadata": {
        "id": "vWaQgBn8x51d"
      },
      "outputs": [],
      "source": [
        "for i in range(ancho_imagen):  # Este es un doble for loop que itera sobre...\n",
        "    for j in range(altura_imagen): # ...los renglones y columnas de la matriz\n",
        "        # Utiliza un \"if statement\" para que cada vez que\n",
        "        # se satisfaga la condicion \"Si un pixel en el canal UV\n",
        "        # está por arriba del umbral_UV, y un número aleatorio\n",
        "        # entre 0 y 1 es menor a 0.2, pinta ese pixel de color azul.\n",
        "        ################################\n",
        "\n",
        "\n",
        "\n",
        "        #################################"
      ]
    },
    {
      "cell_type": "markdown",
      "metadata": {
        "id": "EtWGdTHBx51d"
      },
      "source": [
        "**¿Cómo se ve esta imagen de prueba?**"
      ]
    },
    {
      "cell_type": "code",
      "execution_count": null,
      "metadata": {
        "id": "gOM1J2Alx51d"
      },
      "outputs": [],
      "source": [
        "# Visualiza la nueva imagen, img_prueba_UV\n",
        "##################\n",
        "\n",
        "##################"
      ]
    },
    {
      "cell_type": "markdown",
      "metadata": {
        "id": "N6czO7cex51d"
      },
      "source": [
        "**Pregunta:** ¿Qué pasa si cambias el valor del `umbral_UV`? inténtalo y vuelve a generar la imagen de prueba.\n",
        "\n",
        "Algunos valores sugeridos: `umbral_UV = 0.05` o `0.15`, etc."
      ]
    },
    {
      "cell_type": "markdown",
      "metadata": {
        "id": "9OP5x9xmx51d"
      },
      "source": [
        "Ahora, hagamos ahora una primera prueba con pixeles en el canal IR que estén por arriba del `umbral_IR`.\n",
        "\n",
        "**Condición –** Si un pixel en el canal IR está por arriba del `umbral_IR`, y un número aleatorio entre 0 y 1 es menor a 0.2, pinta ese pixel de color rojo."
      ]
    },
    {
      "cell_type": "code",
      "execution_count": null,
      "metadata": {
        "collapsed": true,
        "id": "W5aa9Mbax51d"
      },
      "outputs": [],
      "source": [
        "# Haz lo mismo que hicimos arriba, ahora para el canal IR.\n",
        "###############\n",
        "\n",
        "###############"
      ]
    },
    {
      "cell_type": "code",
      "execution_count": null,
      "metadata": {
        "collapsed": true,
        "id": "Vglk2fv2x51d"
      },
      "outputs": [],
      "source": [
        "# Haz lo mismo que hicimos arriba, ahora para el canal IR.\n",
        "#################\n",
        "\n",
        "\n",
        "\n",
        "################"
      ]
    },
    {
      "cell_type": "code",
      "execution_count": null,
      "metadata": {
        "id": "LBU9P2KAx51e"
      },
      "outputs": [],
      "source": [
        "visualizar_imagen(img_prueba_IR)"
      ]
    },
    {
      "cell_type": "markdown",
      "metadata": {
        "id": "pNPniQ5qx51e"
      },
      "source": [
        "**Pregunta:** ¿Qué pasa si cambias el valor del `umbral_IR`? inténtalo y vuelve a generar la imagen de prueba.\n",
        "\n",
        "Algunos valores sugeridos: `umbral_IR = 0.05` o `0.15`, etc."
      ]
    },
    {
      "cell_type": "markdown",
      "metadata": {
        "id": "_SwtIOSDx51e"
      },
      "source": [
        "También puedes intentar cambiar el umbral del número aleatorio, para cambiar la densidad de los pixeles."
      ]
    },
    {
      "cell_type": "markdown",
      "metadata": {
        "id": "DW3fgbqmx51e"
      },
      "source": [
        "## Ahora ambos canales\n",
        "\n",
        "Ahora, hagamos una prueba donde los pixeles que esten arriba de los umbrales _de los dos canales_ sean de color azul o rojo respectivamente."
      ]
    },
    {
      "cell_type": "markdown",
      "metadata": {
        "id": "ZlKm-Rdcx51e"
      },
      "source": [
        "Junta las dos condiciones de arriba:"
      ]
    },
    {
      "cell_type": "code",
      "execution_count": null,
      "metadata": {
        "collapsed": true,
        "id": "HEdpwBqzx51e"
      },
      "outputs": [],
      "source": [
        "img_prueba_IR_UV = img_RGB_01.copy()"
      ]
    },
    {
      "cell_type": "code",
      "execution_count": null,
      "metadata": {
        "collapsed": true,
        "id": "FTjgv8tSx51e"
      },
      "outputs": [],
      "source": [
        "for i in range(ancho_imagen):\n",
        "    for j in range(altura_imagen):\n",
        "        if img_IR_01[i,j] > umbral_IR and np.random.random() < 0.2:\n",
        "            img_prueba_IR_UV[i,j,0] = 1\n",
        "            img_prueba_IR_UV[i,j,1] = 0\n",
        "            img_prueba_IR_UV[i,j,2] = 0\n",
        "        if img_UV_01[i,j] > umbral_UV and np.random.random() < 0.2:\n",
        "            img_prueba_IR_UV[i,j,0] = 0\n",
        "            img_prueba_IR_UV[i,j,1] = 0\n",
        "            img_prueba_IR_UV[i,j,2] = 1"
      ]
    },
    {
      "cell_type": "code",
      "execution_count": null,
      "metadata": {
        "id": "epvk4-dCx51e"
      },
      "outputs": [],
      "source": [
        "visualizar_imagen(img_prueba_IR_UV)"
      ]
    },
    {
      "cell_type": "markdown",
      "metadata": {
        "id": "hjcpuCLlx51e"
      },
      "source": [
        "# Animación de canales\n",
        "\n",
        "Finalmente, vamos a juntar todo lo que hemos construido hasta ahora para hacer una animación de pixeles oscilando en regiones de la imagen donde hay alta intesidad de UV o IR."
      ]
    },
    {
      "cell_type": "code",
      "execution_count": null,
      "metadata": {
        "collapsed": true,
        "id": "oxqDcnFUx51e"
      },
      "outputs": [],
      "source": [
        "# El número de imágenes del cual estará formada la animación.\n",
        "num_imagenes = 20"
      ]
    },
    {
      "cell_type": "code",
      "execution_count": null,
      "metadata": {
        "id": "XHTJL_R4x51e"
      },
      "outputs": [],
      "source": [
        "for n in range(num_imagenes):\n",
        "\n",
        "    # Hacemos una copia de nuestra imagen RGB, a la cual le vamos\n",
        "    # a cambiar los colores de los pixeles que estén por arriba\n",
        "    # de los umbrales UV e IR.\n",
        "    img_IR_UV = img_RGB_01.copy()\n",
        "\n",
        "    print(n)\n",
        "\n",
        "    # Repite lo que hicimos arriba, con las condiciones de\n",
        "    # UV e IR, pero dentro del for loop que itera sobre el\n",
        "    # número de imágenes.\n",
        "    ################################\n",
        "\n",
        "\n",
        "\n",
        "    #################################\n",
        "    visualizar_imagen(img_IR_UV)\n",
        "    pylab.savefig(\"frame\" + str(n) + \".png\")\n"
      ]
    },
    {
      "cell_type": "code",
      "execution_count": null,
      "metadata": {
        "collapsed": true,
        "id": "AQQJhR1Jx51e"
      },
      "outputs": [],
      "source": [
        "makemovie(n, \"pelicula_UV_IR.gif\")"
      ]
    },
    {
      "cell_type": "markdown",
      "source": [
        "Visualiza el resultado."
      ],
      "metadata": {
        "id": "QyZdRnTl5LQv"
      }
    },
    {
      "cell_type": "code",
      "execution_count": null,
      "metadata": {
        "collapsed": true,
        "id": "CjybzbXkx51e"
      },
      "outputs": [],
      "source": [
        "![](pelicula_UV_IR.gif)"
      ]
    },
    {
      "cell_type": "markdown",
      "source": [
        "**¡Terminamos con este cuaderno! 🎉**\n",
        "\n",
        "En resumen, lo que hicimos fue procesar información real de una galaxia, la transformamos y añadimos 2 canales de color prácticamente imperceptibles a la vista dentro de información que sí podemos percibir."
      ],
      "metadata": {
        "id": "DmWAP91I5PAv"
      }
    },
    {
      "cell_type": "markdown",
      "source": [
        "---\n",
        "> Contenido curado por **Rodolfo Ferro**. Contacto: [ferro@cimat.mx](ferro@cimat.mx) <br>\n",
        "[**Clubes de Ciencia México**](https://clubesdeciencia.mx/), 2025."
      ],
      "metadata": {
        "id": "m68W4Gery1bD"
      }
    }
  ],
  "metadata": {
    "kernelspec": {
      "display_name": "Python 3",
      "language": "python",
      "name": "python3"
    },
    "language_info": {
      "codemirror_mode": {
        "name": "ipython",
        "version": 3
      },
      "file_extension": ".py",
      "mimetype": "text/x-python",
      "name": "python",
      "nbconvert_exporter": "python",
      "pygments_lexer": "ipython3",
      "version": "3.4.2"
    },
    "colab": {
      "provenance": [],
      "include_colab_link": true
    }
  },
  "nbformat": 4,
  "nbformat_minor": 0
}